{
 "cells": [
  {
   "cell_type": "markdown",
   "id": "7d47fadf-fd89-4d8c-b375-316c89931c45",
   "metadata": {},
   "source": [
    "# Level 2-b (Gearing Up for Destruction) Solution"
   ]
  },
  {
   "cell_type": "markdown",
   "id": "37526c12-898b-438d-bf90-762d6980f42d",
   "metadata": {},
   "source": [
    "D: array of differences between pegs:  \n",
    "\n",
    "**2 gears**: D0 = r0+r1 => r1 = D0 - r0 => r0/2 = D0 - r0 =>   \n",
    "    => r0/2 +r0 = D0 => 3/2r0 = D0 => **r0 = 2/3(D0)**   \n",
    "**3 gears**: D1 = r1+r2 => r2 = D1 - r1 => r0/2 = D1 -(D0 - r0) => r2 = D1 - D0 +r0   \n",
    "    => r0/2 -r0 = D1 -D0 => -1/2r0 = D1 -D0 => **r0 = 2(-D1 +D0)**    \n",
    "**4 gears**: D2 = r2+r3 => r3 = D2 - r2 => r0/2 = D2 -(D1 - D0 + r0) => r3 = D2 -D1 + D0 -r0   \n",
    "    => r0/2 +r0 = D2 -D1 +D0 => 3/2r0 = D2 -D1 +D0 => **r0 = 2/3(D2 -D1 +D0)**   \n",
    "**5 gears**: D3 = r3+r4 => r4 = D3 - r3 => r0/2 = D3 -(D2 -D1 + D0 - r0) => r4 = D3 -D2 +D1 - D0 +r0   \n",
    "    => r0/2 -r0 = D3 -D2 +D1 -D0 => -1/2r0 = D3 -D2 +D1 -D0 => **r0 = 2(-D3 +D2 -D1 +D0)**   \n",
    "**6 gears**: D4 = r4+r5 => r5 = D4 - r4 => r0/2 = D4 -(D3 -D2 +D1 - D0 + r0) => r5 = D4 -D3 +D2 -D1 +D0 -r0   \n",
    "    => r0/2 +r0 = D4 -D3 +D2 -D1 +D0 => 3/2r0 = D4 -D3 +D2 -D1 +D0 => **r0 = 2/3(D4 -D3 +D2 -D1 +D0)**  \n",
    "    \n",
    "**2 gears**: **r0 = 2/3(D0)**   \n",
    "**3 gears**: **r0 = 2(-D1 +D0)**    \n",
    "**4 gears**: **r0 = 2/3(D2 -D1 +D0)**   \n",
    "**5 gears**: **r0 = 2(-D3 +D2 -D1 +D0)**   \n",
    "**6 gears**: **r0 = 2/3(D4 -D3 +D2 -D1 +D0)**  \n",
    "\n",
    "**Even**:  \n",
    "    2/3 * (Σ(D_even) + Σ(-D_odd))  \n",
    "**Odd**peg_locations = [375, 3850, 7328, 8630] # [866, 1] Even:  \n",
    "    2 * (Σ(-D_odd) + Σ(D_even))  "
   ]
  },
  {
   "cell_type": "code",
   "execution_count": 212,
   "id": "8822c72e-1c4c-4c0f-a62e-9f337b99db5b",
   "metadata": {},
   "outputs": [
    {
     "name": "stdout",
     "output_type": "stream",
     "text": [
      "even\n",
      "-- 17.333333333333332\n",
      "[52, 3]\n",
      "2 pegs -> with differences: [26]\n",
      "evens: [26]\n",
      "odds: []\n",
      "52/3\n"
     ]
    }
   ],
   "source": [
    "from fractions import Fraction\n",
    "\n",
    "def Differences_Calculator(mylist):\n",
    "    mydiflist = []\n",
    "    for i in range(1,len(mylist)):\n",
    "        mydiflist.append(mylist[i]-mylist[i-1])\n",
    "    return mydiflist\n",
    "\n",
    "pegs = [4, 30] # [12, 1] Base Test Case\n",
    "#pegs = [4, 30, 50] # [12, 1] Base Test Case\n",
    "#pegs = [4, 17, 50] # [-1, -1] Negative Test\n",
    "#pegs = [1, 100] # [66, 1] 2 Pegs\n",
    "#pegs = [375, 3850, 7328, 8630] # [866, 1] Even\n",
    "#pegs = [13, 130, 234, 327, 394] # [78, 1] Odd\n",
    "#pegs = [9377, 9447, 9569, 9646] # [50, 3] Hard to make into Fraction (Radii is 16.666666..)\n",
    "\n",
    "peg_differences = Differences_Calculator(pegs)\n",
    "if (len(pegs) % 2) == 0: # even gears\n",
    "    print(\"even\")\n",
    "    even_peg_differences = peg_differences[0::2]\n",
    "    odd_peg_differences = peg_differences[1::2]\n",
    "    r0 = (Fraction(sum(even_peg_differences) - sum(odd_peg_differences)) / Fraction(3)) * Fraction(2)\n",
    "    print(\"--\",r0.numerator/r0.denominator)\n",
    "    if (r0.numerator < r0.denominator):\n",
    "        print([-1, -1])\n",
    "    else:\n",
    "        print([r0.numerator, r0.denominator])\n",
    "else: # odd gears\n",
    "    print(\"odd\")\n",
    "    even_peg_differences = peg_differences[0::2]\n",
    "    odd_peg_differences = peg_differences[1::2]\n",
    "    r0 = (Fraction(-sum(odd_peg_differences) + sum(even_peg_differences)) / 1) * Fraction(2)\n",
    "    if (r0.numerator < r0.denominator):\n",
    "        print([-1, -1])\n",
    "    else:\n",
    "        print([r0.numerator, r0.denominator])\n",
    "    \n",
    "print(len(pegs),\"pegs -> with differences:\", peg_differences)\n",
    "print(\"evens:\", even_peg_differences)\n",
    "print(\"odds:\", odd_peg_differences)\n",
    "print(r0)"
   ]
  },
  {
   "cell_type": "code",
   "execution_count": 213,
   "id": "67e7d210-588c-4481-b2a6-c3084c9f4c3d",
   "metadata": {},
   "outputs": [
    {
     "name": "stdout",
     "output_type": "stream",
     "text": [
      "[50, 3]\n"
     ]
    }
   ],
   "source": [
    "def solution(pegs):\n",
    "    # Your code here\n",
    "    peg_differences = Differences_Calculator(pegs)\n",
    "    if (len(pegs) % 2) == 0: # even gears\n",
    "        even_peg_differences = peg_differences[0::2]\n",
    "        odd_peg_differences = peg_differences[1::2]\n",
    "        r0 = (Fraction(sum(even_peg_differences) - sum(odd_peg_differences)) / Fraction(3)) * Fraction(2)\n",
    "        if (r0.numerator < 1) or (r0.numerator < r0.denominator):\n",
    "            return([-1, -1])\n",
    "        else:\n",
    "            return([r0.numerator, r0.denominator])\n",
    "    else: # odd gears\n",
    "        even_peg_differences = peg_differences[0::2]\n",
    "        odd_peg_differences = peg_differences[1::2]\n",
    "        r0 = (Fraction(-sum(odd_peg_differences) + sum(even_peg_differences)) / 1) * Fraction(2)\n",
    "        if (r0.numerator < 1) or (r0.numerator < r0.denominator):\n",
    "            return([-1, -1])\n",
    "        else:\n",
    "            return([r0.numerator, r0.denominator])\n",
    "\n",
    "peg_locations = [4, 30, 50] # [12, 1] Base Test Case\n",
    "peg_locations = [4, 17, 50] # [-1, -1] Negative Test\n",
    "peg_locations = [1, 100] # [66, 1] 2 Pegs\n",
    "peg_locations = [375, 3850, 7328, 8630] # [866, 1] Even\n",
    "peg_locations = [13, 130, 234, 327, 394] # [78, 1] Odd\n",
    "peg_locations = [9377, 9447, 9569, 9646] # [50, 3] Hard to make into Fraction (Radii is 16.666666..)\n",
    "\n",
    "print(solution(peg_locations))"
   ]
  },
  {
   "cell_type": "markdown",
   "id": "2bb8400d-e98c-47d4-b12f-362eb60d9aa4",
   "metadata": {},
   "source": [
    "Gearing Up for Destruction\n",
    "==========================\n",
    "\n",
    "As Commander Lambda's personal assistant, you've been assigned the task of configuring the LAMBCHOP doomsday device's axial orientation gears. It should be pretty simple -- just add gears to create the appropriate rotation ratio. But the problem is, due to the layout of the LAMBCHOP and the complicated system of beams and pipes supporting it, the pegs that will support the gears are fixed in place.\n",
    "\n",
    "The LAMBCHOP's engineers have given you lists identifying the placement of groups of pegs along various support beams. You need to place a gear on each peg (otherwise the gears will collide with unoccupied pegs). The engineers have plenty of gears in all different sizes stocked up, so you can choose gears of any size, from a radius of 1 on up. Your goal is to build a system where the last gear rotates at twice the rate (in revolutions per minute, or rpm) of the first gear, no matter the direction. Each gear (except the last) touches and turns the gear on the next peg to the right.\n",
    "\n",
    "Given a list of distinct positive integers named pegs representing the location of each peg along the support beam, write a function solution(pegs) which, if there is a solution, returns a list of two positive integers a and b representing the numerator and denominator of the first gear's radius in its simplest form in order to achieve the goal above, such that radius = a/b. The ratio a/b should be greater than or equal to 1. Not all support configurations will necessarily be capable of creating the proper rotation ratio, so if the task is impossible, the function solution(pegs) should return the list [-1, -1].\n",
    "\n",
    "For example, if the pegs are placed at [4, 30, 50], then the first gear could have a radius of 12, the second gear could have a radius of 14, and the last one a radius of 6. Thus, the last gear would rotate twice as fast as the first one. In this case, pegs would be [4, 30, 50] and solution(pegs) should return [12, 1].\n",
    "\n",
    "The list pegs will be given sorted in ascending order and will contain at least 2 and no more than 20 distinct positive integers, all between 1 and 10000 inclusive.\n",
    "\n",
    "Languages\n",
    "=========\n",
    "\n",
    "To provide a Java solution, edit Solution.java\n",
    "To provide a Python solution, edit solution.py\n",
    "\n",
    "Test cases\n",
    "==========\n",
    "Your code should pass the following test cases.\n",
    "Note that it may also be run against hidden test cases not shown here.\n",
    "\n",
    "-- Java cases --\n",
    "Input:\n",
    "Solution.solution({4, 17, 50})\n",
    "Output:\n",
    "    -1,-1\n",
    "\n",
    "Input:\n",
    "Solution.solution({4, 30, 50})\n",
    "Output:\n",
    "    12,1\n",
    "\n",
    "-- Python cases --\n",
    "Input:\n",
    "solution.solution([4, 30, 50])\n",
    "Output:\n",
    "    12,1\n",
    "\n",
    "Input:\n",
    "solution.solution([4, 17, 50])\n",
    "Output:\n",
    "    -1,-1\n"
   ]
  }
 ],
 "metadata": {
  "kernelspec": {
   "display_name": "Python 3 (ipykernel)",
   "language": "python",
   "name": "python3"
  },
  "language_info": {
   "codemirror_mode": {
    "name": "ipython",
    "version": 3
   },
   "file_extension": ".py",
   "mimetype": "text/x-python",
   "name": "python",
   "nbconvert_exporter": "python",
   "pygments_lexer": "ipython3",
   "version": "3.9.12"
  }
 },
 "nbformat": 4,
 "nbformat_minor": 5
}
