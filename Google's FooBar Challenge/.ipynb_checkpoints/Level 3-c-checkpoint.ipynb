{
 "cells": [
  {
   "cell_type": "markdown",
   "id": "2eaeddda-6ab6-409f-9691-82ee4735c200",
   "metadata": {},
   "source": [
    "# Level 3-c Prepare the Bunnies' Escape"
   ]
  },
  {
   "cell_type": "code",
   "execution_count": null,
   "id": "d8cdfd47-268b-4160-8684-df395116b9ea",
   "metadata": {},
   "outputs": [],
   "source": []
  },
  {
   "cell_type": "markdown",
   "id": "8fa36f06-5e34-455f-9116-121e16c0a760",
   "metadata": {},
   "source": [
    "Prepare the Bunnies' Escape\n",
    "===========================\n",
    "\n",
    "You're awfully close to destroying the LAMBCHOP doomsday device and freeing Commander Lambda's bunny workers, but once they're free of the work duties the bunnies are going to need to escape Lambda's space station via the escape pods as quickly as possible. Unfortunately, the halls of the space station are a maze of corridors and dead ends that will be a deathtrap for the escaping bunnies. Fortunately, Commander Lambda has put you in charge of a remodeling project that will give you the opportunity to make things a little easier for the bunnies. Unfortunately (again), you can't just remove all obstacles between the bunnies and the escape pods - at most you can remove one wall per escape pod path, both to maintain structural integrity of the station and to avoid arousing Commander Lambda's suspicions. \n",
    "\n",
    "You have maps of parts of the space station, each starting at a work area exit and ending at the door to an escape pod. The map is represented as a matrix of 0s and 1s, where 0s are passable space and 1s are impassable walls. The door out of the station is at the top left (0,0) and the door into an escape pod is at the bottom right (w-1,h-1). \n",
    "\n",
    "Write a function solution(map) that generates the length of the shortest path from the station door to the escape pod, where you are allowed to remove one wall as part of your remodeling plans. The path length is the total number of nodes you pass through, counting both the entrance and exit nodes. The starting and ending positions are always passable (0). The map will always be solvable, though you may or may not need to remove a wall. The height and width of the map can be from 2 to 20. Moves can only be made in cardinal directions; no diagonal moves are allowed.\n",
    "\n",
    "Languages\n",
    "=========\n",
    "\n",
    "To provide a Python solution, edit solution.py\n",
    "To provide a Java solution, edit Solution.java\n",
    "\n",
    "Test cases\n",
    "==========\n",
    "Your code should pass the following test cases.\n",
    "Note that it may also be run against hidden test cases not shown here.\n",
    "\n",
    "-- Python cases --\n",
    "Input:\n",
    "solution.solution([[0, 1, 1, 0], [0, 0, 0, 1], [1, 1, 0, 0], [1, 1, 1, 0]])\n",
    "Output:\n",
    "    7\n",
    "\n",
    "Input:\n",
    "solution.solution([[0, 0, 0, 0, 0, 0], [1, 1, 1, 1, 1, 0], [0, 0, 0, 0, 0, 0], [0, 1, 1, 1, 1, 1], [0, 1, 1, 1, 1, 1], [0, 0, 0, 0, 0, 0]])\n",
    "Output:\n",
    "    11\n",
    "\n",
    "-- Java cases --\n",
    "Input:\n",
    "Solution.solution({{0, 1, 1, 0}, {0, 0, 0, 1}, {1, 1, 0, 0}, {1, 1, 1, 0}})\n",
    "Output:\n",
    "    7\n",
    "\n",
    "Input:\n",
    "Solution.solution({{0, 0, 0, 0, 0, 0}, {1, 1, 1, 1, 1, 0}, {0, 0, 0, 0, 0, 0}, {0, 1, 1, 1, 1, 1}, {0, 1, 1, 1, 1, 1}, {0, 0, 0, 0, 0, 0}})\n",
    "Output:\n",
    "    11"
   ]
  }
 ],
 "metadata": {
  "kernelspec": {
   "display_name": "Python 3 (ipykernel)",
   "language": "python",
   "name": "python3"
  },
  "language_info": {
   "codemirror_mode": {
    "name": "ipython",
    "version": 3
   },
   "file_extension": ".py",
   "mimetype": "text/x-python",
   "name": "python",
   "nbconvert_exporter": "python",
   "pygments_lexer": "ipython3",
   "version": "3.9.12"
  }
 },
 "nbformat": 4,
 "nbformat_minor": 5
}
