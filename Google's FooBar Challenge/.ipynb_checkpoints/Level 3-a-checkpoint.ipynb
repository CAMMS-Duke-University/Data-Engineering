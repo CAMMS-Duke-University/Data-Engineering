{
 "cells": [
  {
   "cell_type": "markdown",
   "id": "0c895da7-f75e-4534-ad4d-34847cb1bcbd",
   "metadata": {},
   "source": [
    "# Level 3 Solution (Find the Access Codes)"
   ]
  },
  {
   "cell_type": "code",
   "execution_count": null,
   "id": "60ba6777-93e6-4f40-9ffb-c221dedcedeb",
   "metadata": {},
   "outputs": [],
   "source": []
  },
  {
   "cell_type": "code",
   "execution_count": null,
   "id": "3485cfc8-39ac-49c6-883a-c363545c95d7",
   "metadata": {},
   "outputs": [],
   "source": []
  },
  {
   "cell_type": "markdown",
   "id": "94876c23-1585-4b47-a526-9728d236ee98",
   "metadata": {},
   "source": [
    "Find the Access Codes\n",
    "=====================\n",
    "\n",
    "In order to destroy Commander Lambda's LAMBCHOP doomsday device, you'll need access to it. But the only door leading to the LAMBCHOP chamber is secured with a unique lock system whose number of passcodes changes daily. Commander Lambda gets a report every day that includes the locks' access codes, but only the Commander knows how to figure out which of several lists contains the access codes. You need to find a way to determine which list contains the access codes once you're ready to go in. \n",
    "\n",
    "Fortunately, now that you're Commander Lambda's personal assistant, Lambda has confided to you that all the access codes are \"lucky triples\" in order to make it easier to find them in the lists. A \"lucky triple\" is a tuple (x, y, z) where x divides y and y divides z, such as (1, 2, 4). With that information, you can figure out which list contains the number of access codes that matches the number of locks on the door when you're ready to go in (for example, if there's 5 passcodes, you'd need to find a list with 5 \"lucky triple\" access codes).\n",
    "\n",
    "Write a function solution(l) that takes a list of positive integers l and counts the number of \"lucky triples\" of (li, lj, lk) where the list indices meet the requirement i < j < k.  The length of l is between 2 and 2000 inclusive.  The elements of l are between 1 and 999999 inclusive.  The solution fits within a signed 32-bit integer. Some of the lists are purposely generated without any access codes to throw off spies, so if no triples are found, return 0. \n",
    "\n",
    "For example, [1, 2, 3, 4, 5, 6] has the triples: [1, 2, 4], [1, 2, 6], [1, 3, 6], making the solution 3 total.\n",
    "\n",
    "Languages\n",
    "=========\n",
    "\n",
    "To provide a Java solution, edit Solution.java\n",
    "To provide a Python solution, edit solution.py\n",
    "\n",
    "Test cases\n",
    "==========\n",
    "Your code should pass the following test cases.\n",
    "Note that it may also be run against hidden test cases not shown here.\n",
    "\n",
    "-- Java cases --\n",
    "Input:\n",
    "Solution.solution([1, 1, 1])\n",
    "Output:\n",
    "    1\n",
    "\n",
    "Input:\n",
    "Solution.solution([1, 2, 3, 4, 5, 6])\n",
    "Output:\n",
    "    3\n",
    "\n",
    "-- Python cases --\n",
    "Input:\n",
    "solution.solution([1, 2, 3, 4, 5, 6])\n",
    "Output:\n",
    "    3\n",
    "\n",
    "Input:\n",
    "solution.solution([1, 1, 1])\n",
    "Output:\n",
    "    1\n",
    "\n",
    "Use verify [file] to test your solution and see how it does. When you are finished editing your code, use submit [file] to submit your answer. If your solution passes the test cases, it will be removed from your home folder."
   ]
  }
 ],
 "metadata": {
  "kernelspec": {
   "display_name": "Python 3 (ipykernel)",
   "language": "python",
   "name": "python3"
  },
  "language_info": {
   "codemirror_mode": {
    "name": "ipython",
    "version": 3
   },
   "file_extension": ".py",
   "mimetype": "text/x-python",
   "name": "python",
   "nbconvert_exporter": "python",
   "pygments_lexer": "ipython3",
   "version": "3.9.12"
  }
 },
 "nbformat": 4,
 "nbformat_minor": 5
}
