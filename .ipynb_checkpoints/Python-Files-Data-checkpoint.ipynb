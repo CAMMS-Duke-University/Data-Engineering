{
 "cells": [
  {
   "cell_type": "code",
   "execution_count": null,
   "id": "e35e2bed-3f98-4171-b1d7-5badeb937c34",
   "metadata": {},
   "outputs": [],
   "source": []
  },
  {
   "cell_type": "markdown",
   "id": "138ba4b1-5195-4325-8a69-770939eee47a",
   "metadata": {},
   "source": [
    "# how to delete a file in Python\n",
    "\n",
    "`import os`  \n",
    "`os.remove(\"ChangedFile.csv\")`  \n",
    "`print(\"File Removed!\")`  "
   ]
  },
  {
   "cell_type": "code",
   "execution_count": null,
   "id": "a9b99557-4e1e-4ad0-8902-48b80cb442ff",
   "metadata": {},
   "outputs": [],
   "source": []
  },
  {
   "cell_type": "markdown",
   "id": "6f9333ec-150b-49e1-9edb-9b2670d96279",
   "metadata": {},
   "source": [
    "# Pandas\n",
    "- Pandas is an open-source, python-based library used in data manipulation applications requiring high performance. \n",
    "- Pandas are useful in performing 5 major steps of data analysis - Load the data, clean/manipulate it, prepare it, model it, and analyze the data.\n"
   ]
  },
  {
   "cell_type": "markdown",
   "id": "2aa80398-d71d-4b48-9b0b-ba84f0aaa741",
   "metadata": {},
   "source": [
    "`import pandas as pd`  \n",
    "`dataframe = pd.DataFrame( data, index, columns, dtype)`"
   ]
  },
  {
   "cell_type": "code",
   "execution_count": null,
   "id": "1824e177-c8f9-4196-9fd4-8f6eb76effb7",
   "metadata": {},
   "outputs": [],
   "source": []
  },
  {
   "cell_type": "markdown",
   "id": "417953b9-7cf5-481e-914f-53a786e0adbc",
   "metadata": {},
   "source": [
    "# Reference\n",
    "- https://www.interviewbit.com/python-interview-questions/#use-of-self-in-python"
   ]
  },
  {
   "cell_type": "code",
   "execution_count": null,
   "id": "2b65c36c-41ae-43a9-ab16-351d62a1ecc3",
   "metadata": {},
   "outputs": [],
   "source": []
  },
  {
   "cell_type": "code",
   "execution_count": null,
   "id": "891d1fc1-3f12-436b-8830-6955b7b140da",
   "metadata": {},
   "outputs": [],
   "source": [
    "\n",
    "[3,2,4]\n",
    "6\n",
    "[3,3]\n",
    "6"
   ]
  },
  {
   "cell_type": "code",
   "execution_count": 4,
   "id": "399ac9c6-3080-42d6-93f0-2da060a48c49",
   "metadata": {},
   "outputs": [
    {
     "name": "stdout",
     "output_type": "stream",
     "text": [
      "[1, 2]\n"
     ]
    }
   ],
   "source": [
    "nums = [2,7,11,15]\n",
    "target = 9\n",
    "\n",
    "nums = [3,2,4]\n",
    "target = 6\n",
    "\n",
    "\n",
    "\n",
    "\n",
    "for i in range(0,len(nums)):\n",
    "    for j in range(i+1,len(nums)):\n",
    "        if (nums[i]+nums[j]==target):\n",
    "            print([i,j])\n",
    "            \n",
    "dict={}\n",
    "for index, ele in enumerate(nums):\n",
    "    if target- ele in dict:\n",
    "        return dict[target- ele], index\n",
    "    dict[ele]= index"
   ]
  },
  {
   "cell_type": "code",
   "execution_count": null,
   "id": "fc476c52-b68e-47ac-bef0-c35318778add",
   "metadata": {},
   "outputs": [],
   "source": [
    "\n",
    "\n",
    "l1 = [9,9,9,9,9,9,9]\n",
    "l2 = [9,9,9,9]"
   ]
  },
  {
   "cell_type": "code",
   "execution_count": 43,
   "id": "31b86b02-733f-410d-84b1-d8d9ebdee1ae",
   "metadata": {},
   "outputs": [
    {
     "name": "stdout",
     "output_type": "stream",
     "text": [
      "[0, 0, 0]\n"
     ]
    }
   ],
   "source": [
    "listofzeros = \n",
    "print(listofzeros)"
   ]
  },
  {
   "cell_type": "code",
   "execution_count": 34,
   "id": "4b164aa9-5a74-439c-a86d-0c1d4091c17a",
   "metadata": {},
   "outputs": [
    {
     "name": "stdout",
     "output_type": "stream",
     "text": [
      "Reversed List: [7, 5, 3, 2]\n"
     ]
    }
   ],
   "source": [
    "# create a list of prime numbers\n",
    "prime_numbers = [2, 3, 5, 7]\n",
    "\n",
    "# reverse the order of list elements\n",
    "prime_numbers.reverse()\n",
    "\n",
    "\n",
    "print('Reversed List:', prime_numbers)\n",
    "\n",
    "# Output: Reversed List: [7, 5, 3, 2]"
   ]
  },
  {
   "cell_type": "code",
   "execution_count": 79,
   "id": "d198e5ed-6e22-4a23-9239-36e22d61bf26",
   "metadata": {},
   "outputs": [
    {
     "name": "stdout",
     "output_type": "stream",
     "text": [
      "True\n"
     ]
    }
   ],
   "source": [
    "txt = \"The best things in life are free!\"\n",
    "print(\"free\" in txt)"
   ]
  },
  {
   "cell_type": "code",
   "execution_count": null,
   "id": "ed272f36-a7d0-40e5-959c-b07e7103ca13",
   "metadata": {},
   "outputs": [],
   "source": []
  },
  {
   "cell_type": "code",
   "execution_count": null,
   "id": "3c2afbac-05e9-4690-80da-9675a3b1d62f",
   "metadata": {},
   "outputs": [],
   "source": []
  }
 ],
 "metadata": {
  "kernelspec": {
   "display_name": "Python 3 (ipykernel)",
   "language": "python",
   "name": "python3"
  },
  "language_info": {
   "codemirror_mode": {
    "name": "ipython",
    "version": 3
   },
   "file_extension": ".py",
   "mimetype": "text/x-python",
   "name": "python",
   "nbconvert_exporter": "python",
   "pygments_lexer": "ipython3",
   "version": "3.9.12"
  }
 },
 "nbformat": 4,
 "nbformat_minor": 5
}
