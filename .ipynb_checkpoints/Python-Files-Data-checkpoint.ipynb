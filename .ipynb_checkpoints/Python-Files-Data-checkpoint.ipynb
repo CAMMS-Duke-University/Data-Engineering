{
 "cells": [
  {
   "cell_type": "code",
   "execution_count": null,
   "id": "e35e2bed-3f98-4171-b1d7-5badeb937c34",
   "metadata": {},
   "outputs": [],
   "source": []
  },
  {
   "cell_type": "markdown",
   "id": "138ba4b1-5195-4325-8a69-770939eee47a",
   "metadata": {},
   "source": [
    "# how to delete a file in Python\n",
    "\n",
    "`import os`  \n",
    "`os.remove(\"ChangedFile.csv\")`  \n",
    "`print(\"File Removed!\")`  "
   ]
  }
 ],
 "metadata": {
  "kernelspec": {
   "display_name": "Python 3 (ipykernel)",
   "language": "python",
   "name": "python3"
  },
  "language_info": {
   "codemirror_mode": {
    "name": "ipython",
    "version": 3
   },
   "file_extension": ".py",
   "mimetype": "text/x-python",
   "name": "python",
   "nbconvert_exporter": "python",
   "pygments_lexer": "ipython3",
   "version": "3.9.12"
  }
 },
 "nbformat": 4,
 "nbformat_minor": 5
}
