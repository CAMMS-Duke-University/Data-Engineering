{
 "cells": [
  {
   "cell_type": "markdown",
   "id": "139be0b5-59b3-4023-a77d-435aef7026d8",
   "metadata": {},
   "source": [
    "# PEP 8\n",
    "\n",
    "PEP stands for Python Enhancement Proposal. A PEP is an official design document providing information to the Python community, or describing a new feature for Python or its processes. PEP 8 is especially important since it documents the style guidelines for Python Code. Apparently contributing to the Python open-source community requires you to follow these style guidelines sincerely and strictly."
   ]
  },
  {
   "cell_type": "code",
   "execution_count": null,
   "id": "3c924e87-0726-4e1e-9091-41b35e30a37b",
   "metadata": {},
   "outputs": [],
   "source": []
  },
  {
   "cell_type": "markdown",
   "id": "ec3a064b-d897-4c82-80f3-fc9f2c093197",
   "metadata": {},
   "source": [
    "# Data types in Python\n",
    "Python doesn't require data types to be defined explicitly during variable declarations \n",
    "\n",
    "1. **None Type**: Represents the NULL values in Python.\n",
    "2. **int**: Stores integer literals including hex, octal and binary numbers as integers\n",
    "3. **float**: Stores literals containing decimal values and/or exponent signs as floating-point numbers\n",
    "4. **complex**: Stores complex numbers in the form (A + Bj) and has attributes: real and imag\n",
    "5. **bool**: Stores boolean value (True or False).\n",
    "\n",
    "**Python Collections (Arrays)**:\n",
    "\n",
    "6. **Lists**: sequence data type, can have different data types. Square brackets `['sara', 6, 0.19]`. Lists are mutable, can be modified, appended or sliced on the go.\n",
    "7. **Tuples**: sequence data type, can have different data types. Parantheses `('ansh', 5, 0.97)`. Tuples are immutable objects, remain constant and cannot be modified in any manner.\n",
    "8. **Set**: is a collection which is unordered, unchangeable*, and unindexed. No duplicate members.\n",
    "9. **Dictionary** is a collection which is ordered** and changeable. No duplicate members. A mapping object can map hashable values to random objects in Python. Mappings objects are **mutable** and there is currently only one standard mapping type, the dictionary: **dict**.\n",
    "\n",
    "\n",
    "10. **Range**: Represents an immutable sequence of numbers generated during execution.\n",
    "11. **Immutable**: sequence of Unicode code points to store textual data."
   ]
  },
  {
   "cell_type": "markdown",
   "id": "7fe95424-24db-4d93-b907-af487c9803c1",
   "metadata": {},
   "source": [
    "### ----------- Lists and Tuples"
   ]
  },
  {
   "cell_type": "code",
   "execution_count": 6,
   "id": "4677acbf-e9ce-417f-ae11-64540eb6933d",
   "metadata": {},
   "outputs": [
    {
     "name": "stdout",
     "output_type": "stream",
     "text": [
      "print list item: sara\n",
      "print tuple item: sara\n",
      "Oops! modifying tuple => throws an error\n",
      "print updated list item: ansh\n",
      "print non-updated tuple item: sara\n",
      "<class 'range'>\n",
      "range(3, 6)\n"
     ]
    }
   ],
   "source": [
    "my_tuple = ('sara', 6, 5, 0.97)\n",
    "my_list = ['sara', 6, 5, 0.97]\n",
    "print(\"print list item:\",my_list[0])     \n",
    "print(\"print tuple item:\",my_tuple[0])     \n",
    "my_list[0] = 'ansh'    # modifying list => list modified\n",
    "try:\n",
    "    my_tuple[0] = 'ansh'\n",
    "except Exception:\n",
    "    print(\"Oops! modifying tuple => throws an error\")\n",
    "print(\"print updated list item:\",my_list[0])     \n",
    "print(\"print non-updated tuple item:\",my_tuple[0])  \n",
    "\n",
    "x = range(3, 6)\n",
    "print(type(x))\n",
    "print(x)"
   ]
  },
  {
   "cell_type": "markdown",
   "id": "60af466b-7246-4468-a84a-076e7470d180",
   "metadata": {},
   "source": [
    "### Slicing & Sub selection\n",
    "\n",
    "- Syntax for slicing is [start : stop : step] and ‘slicing’ is taking parts of from start to stop with step.\n",
    "- Default value for start is 0, stop is number of items, step is 1.\n",
    "- Slicing can be done on strings, arrays, lists, and tuples."
   ]
  },
  {
   "cell_type": "code",
   "execution_count": 32,
   "id": "21976d67-eb6f-40c4-9700-93a01dc63694",
   "metadata": {},
   "outputs": [
    {
     "name": "stdout",
     "output_type": "stream",
     "text": [
      "[0, 1, 2, 3, 4, 5, 6, 7, 8, 9, 10]\n",
      "[0, 1]\n",
      "[0, 2, 4, 6, 8, 10]\n"
     ]
    }
   ],
   "source": [
    "x = [0, 1, 2, 3, 4, 5, 6, 7, 8, 9, 10]\n",
    "print(x)\n",
    "x_sub = x[0:2] #<---- ONE :\n",
    "print(x_sub)\n",
    "\n",
    "x = [0, 1, 2, 3, 4, 5, 6, 7, 8, 9, 10]\n",
    "x_sub = x[0::2] #<---- TWO :  this is slicing\n",
    "print(x_sub)\n"
   ]
  },
  {
   "cell_type": "markdown",
   "id": "2e8936bd-bddf-4dfa-8b27-767684be7c8d",
   "metadata": {},
   "source": [
    "### ----------- Arrays and lists\n",
    "- **Arrays** in python can only contain elements of same data types i.e., data type of array should be homogeneous. It is a thin wrapper around C language arrays and consumes far less memory than lists.\n",
    "- **Lists** in python can contain elements of different data types i.e., data type of lists can be heterogeneous. It has the disadvantage of consuming large memory."
   ]
  },
  {
   "cell_type": "code",
   "execution_count": 47,
   "id": "310cb93a-15a2-40e1-8542-906dd98f8611",
   "metadata": {},
   "outputs": [
    {
     "name": "stdout",
     "output_type": "stream",
     "text": [
      "array('i', [1, 2, 3])\n",
      "1\n"
     ]
    }
   ],
   "source": [
    "import array\n",
    "a = array.array('i', [1, 2, 3]) # 'i' difines integer\n",
    "print(a) # we use nampy array, easier\n",
    "print(a[0])"
   ]
  },
  {
   "cell_type": "markdown",
   "id": "7122d688-d74a-452d-af7b-fbc7c1c06e37",
   "metadata": {},
   "source": [
    "### ----------- Sets"
   ]
  },
  {
   "cell_type": "code",
   "execution_count": 67,
   "id": "2f79da47-4176-4795-a9f8-0bed966482c8",
   "metadata": {},
   "outputs": [
    {
     "name": "stdout",
     "output_type": "stream",
     "text": [
      "<class 'set'>\n",
      "banana\n",
      "apple\n",
      "cherry\n",
      "True\n",
      "{'banana', 'apple', 'cherry'}\n",
      "{'banana', 'orange', 'apple', 'cherry'}\n",
      "{'banana', 'orange', 'papaya', 'mango', 'pineapple', 'apple', 'cherry'}\n",
      "{'b', 1, 'a', 2, 3, 'c'}\n",
      "{'apple'}\n",
      "{'google', 'cherry', 'banana', 'microsoft'}\n",
      "{'orange', 'papaya', 'mango', 'pineapple', 'apple', 'cherry'}\n",
      "{'orange', 'papaya', 'mango', 'apple', 'cherry'}\n",
      "orange\n",
      "{'papaya', 'mango', 'apple', 'cherry'}\n",
      "set()\n"
     ]
    }
   ],
   "source": [
    "thisset = {\"apple\", \"banana\", \"cherry\"}\n",
    "print(type(thisset))\n",
    "for item in thisset:\n",
    "    print(item)\n",
    "\n",
    "print(\"banana\" in thisset)\n",
    "\n",
    "thisset = set((\"apple\", \"banana\", \"cherry\")) # note the double round-brackets\n",
    "print(thisset)\n",
    "\n",
    "thisset.add(\"orange\")\n",
    "print(thisset)\n",
    "\n",
    "tropical = {\"pineapple\", \"mango\", \"papaya\"}\n",
    "thisset.update(tropical) # Add elements \n",
    "print(thisset)\n",
    "\n",
    "set1 = {\"a\", \"b\" , \"c\"}\n",
    "set2 = {1, 2, 3}\n",
    "set3 = set1.union(set2)\n",
    "print(set3)\n",
    "\n",
    "x = {\"apple\", \"banana\", \"cherry\"}\n",
    "y = {\"google\", \"microsoft\", \"apple\"}\n",
    "x.intersection_update(y) # Keep the items that exist in both set x, and set y\n",
    "print(x)\n",
    "\n",
    "x = {\"apple\", \"banana\", \"cherry\"}\n",
    "y = {\"google\", \"microsoft\", \"apple\"}\n",
    "x.symmetric_difference_update(y) # Keep the items that are not present in both sets\n",
    "print(x)\n",
    "\n",
    "thisset.remove(\"banana\")\n",
    "print(thisset)\n",
    "\n",
    "thisset.discard(\"pineapple\")\n",
    "print(thisset)\n",
    "\n",
    "x = thisset.pop()\n",
    "print(x)\n",
    "print(thisset)\n",
    "\n",
    "thisset.clear() # or del thisset\n",
    "print(thisset)"
   ]
  },
  {
   "cell_type": "markdown",
   "id": "f4230c50-f759-4d0e-92fe-f88d1565fa44",
   "metadata": {},
   "source": [
    "### ----------- Mapping: "
   ]
  },
  {
   "cell_type": "code",
   "execution_count": 28,
   "id": "74996135-8197-46cd-8176-75dc3b6a55f4",
   "metadata": {},
   "outputs": [
    {
     "name": "stdout",
     "output_type": "stream",
     "text": [
      "<class 'dict'>\n",
      "{'brand': 'Ford', 'electric': False, 'year': 1964, 'colors': ['red', 'white', 'blue']}\n",
      "Ford\n",
      "4\n",
      "brand Ford\n",
      "electric False\n",
      "year 1964\n",
      "colors ['red', 'white', 'blue']\n",
      "----\n",
      "brand\n",
      "electric\n",
      "year\n",
      "colors\n",
      "----\n",
      "brand\n",
      "electric\n",
      "year\n",
      "colors\n",
      "----\n",
      "Ford\n",
      "False\n",
      "1964\n",
      "['red', 'white', 'blue']\n",
      "----\n",
      "Ford\n",
      "False\n",
      "1964\n",
      "['red', 'white', 'blue']\n"
     ]
    }
   ],
   "source": [
    "thisdict = {\n",
    "  \"brand\": \"Ford\",\n",
    "  \"electric\": False,\n",
    "  \"year\": 1964,\n",
    "  \"colors\": [\"red\", \"white\", \"blue\"]\n",
    "}\n",
    "print(type(thisdict))\n",
    "print(thisdict)\n",
    "print(thisdict[\"brand\"])\n",
    "print(len(thisdict))\n",
    "\n",
    "for x, y in thisdict.items():\n",
    "  print(x, y)\n",
    "print(\"----\")\n",
    "for x in thisdict:\n",
    "  print(x)\n",
    "print(\"----\")\n",
    "for x in thisdict.keys():\n",
    "  print(x)\n",
    "print(\"----\")\n",
    "for x in thisdict:\n",
    "  print(thisdict[x])\n",
    "print(\"----\")\n",
    "for x in thisdict.values():\n",
    "  print(x)"
   ]
  },
  {
   "cell_type": "code",
   "execution_count": 30,
   "id": "3d280a1c-69e4-4a1e-9acd-dfdb2a4b1094",
   "metadata": {},
   "outputs": [
    {
     "name": "stdout",
     "output_type": "stream",
     "text": [
      "Ford\n",
      "Ford\n",
      "dict_keys(['brand', 'electric', 'year', 'colors'])\n",
      "dict_values(['Ford', False, 1964, ['red', 'white', 'blue']])\n",
      "Yes, 'brand' is one of the keys in the thisdict dictionary\n",
      "{'brand': 'Ford', 'electric': False, 'year': 1964, 'colors': ['red', 'white', 'blue'], 'doors': 5}\n",
      "{'brand': 'Ford', 'electric': False, 'year': 1964, 'colors': ['red', 'white', 'blue'], 'doors': 4}\n",
      "{'brand': 'Ford', 'electric': False, 'year': 1964, 'colors': ['red', 'white', 'blue'], 'doors': 3}\n",
      "{'brand': 'Ford', 'electric': False, 'year': 1964, 'colors': ['red', 'white', 'blue']}\n",
      "{'brand': 'Ford', 'electric': False, 'year': 1964}\n",
      "{'brand': 'Ford', 'electric': False}\n",
      "{}\n"
     ]
    }
   ],
   "source": [
    "thisdict = {\n",
    "  \"brand\": \"Ford\",\n",
    "  \"electric\": False,\n",
    "  \"year\": 1964,\n",
    "  \"colors\": [\"red\", \"white\", \"blue\"]\n",
    "}\n",
    "\n",
    "# ----------- Get values\n",
    "x = thisdict[\"brand\"]\n",
    "print(x)\n",
    "x = thisdict.get(\"brand\")\n",
    "print(x)\n",
    "x = thisdict.keys()\n",
    "print(x)\n",
    "x = thisdict.values()\n",
    "print(x)\n",
    "\n",
    "# ----------- Checks values\n",
    "if \"brand\" in thisdict:\n",
    "  print(\"Yes, 'brand' is one of the keys in the thisdict dictionary\")\n",
    "\n",
    "# ----------- Add Modify values\n",
    "thisdict[\"doors\"] = 5 # add a new key and value\n",
    "print(thisdict)\n",
    "thisdict[\"doors\"] = 4 # modify an existing key and value\n",
    "print(thisdict)\n",
    "thisdict.update({\"doors\": 3}) # modify an existing key and value\n",
    "print(thisdict)\n",
    "\n",
    "# ----------- Remove values\n",
    "thisdict.pop(\"doors\") # removes the item with the specified key name\n",
    "print(thisdict)\n",
    "thisdict.popitem() # removes the last inserted item\n",
    "print(thisdict)\n",
    "del thisdict[\"year\"] # removes the item with the specified key name & can also delete the dictionary completely\n",
    "print(thisdict)\n",
    "thisdict.clear() # method empties the dictionary\n",
    "print(thisdict)"
   ]
  },
  {
   "cell_type": "code",
   "execution_count": 32,
   "id": "6a501755-228b-4e40-bf2d-664a96a90c13",
   "metadata": {},
   "outputs": [
    {
     "name": "stdout",
     "output_type": "stream",
     "text": [
      "{'brand': 'Ford', 'electric': False, 'year': 1964, 'colors': ['red', 'white', 'blue']}\n",
      "{'brand': 'Ford', 'electric': False, 'year': 1964, 'colors': ['red', 'white', 'blue']}\n"
     ]
    }
   ],
   "source": [
    "thisdict = {\n",
    "  \"brand\": \"Ford\",\n",
    "  \"electric\": False,\n",
    "  \"year\": 1964,\n",
    "  \"colors\": [\"red\", \"white\", \"blue\"]\n",
    "}\n",
    "\n",
    "mydict = thisdict.copy()\n",
    "print(mydict)\n",
    "mydict = dict(thisdict)\n",
    "print(mydict)"
   ]
  },
  {
   "cell_type": "code",
   "execution_count": 68,
   "id": "614cd4c5-66e9-49ad-a823-5fa6bba9fa3a",
   "metadata": {},
   "outputs": [
    {
     "name": "stdout",
     "output_type": "stream",
     "text": [
      "dict_keys(['child1', 'child2', 'child3'])\n",
      "child1\n",
      "child2\n",
      "child3\n"
     ]
    }
   ],
   "source": [
    "myfamily = {\n",
    "  \"child1\" : {\n",
    "    \"name\" : \"Emil\",\n",
    "    \"year\" : 2004\n",
    "  },\n",
    "  \"child2\" : {\n",
    "    \"name\" : \"Tobias\",\n",
    "    \"year\" : 2007\n",
    "  },\n",
    "  \"child3\" : {\n",
    "    \"name\" : \"Linus\",\n",
    "    \"year\" : 2011\n",
    "  }\n",
    "}\n",
    "print(myfamily.keys())\n",
    "for key in myfamily.keys():\n",
    "    print(key)"
   ]
  },
  {
   "cell_type": "code",
   "execution_count": 72,
   "id": "1b72df4c-f4a6-483d-bb1a-b13d99b0d6a0",
   "metadata": {},
   "outputs": [
    {
     "name": "stdout",
     "output_type": "stream",
     "text": [
      "None\n"
     ]
    }
   ],
   "source": [
    "def myEmptyFunc():\n",
    "   # do nothing\n",
    "   #return\n",
    "    pass\n",
    "print(myEmptyFunc())    # nothing happens\n",
    "## Without the pass keyword\n",
    "# File \"<stdin>\", line 3\n",
    "# IndentationError: expected an indented block"
   ]
  },
  {
   "cell_type": "markdown",
   "id": "3c488dc4-29c3-4f2a-8cb7-035e21bfcc76",
   "metadata": {},
   "source": [
    "# Modules and Packages in Python\n",
    "- **Modules**, are simply Python files with a .py extension and can have a set of functions, classes, or variables defined and implemented. They can be imported and initialized once using the import statement. If partial functionality is needed, import the requisite classes or functions using from foo import bar.\n",
    "- **Packages** allow for hierarchial structuring of the module namespace using dot notation. As, modules help avoid clashes between global variable names, in a similar manner, packages help avoid clashes between module names.\n",
    "\n",
    "Creating a package is easy since it makes use of the system's inherent file structure. So just stuff the modules into a folder and there you have it, the folder name as the package name. Importing a module or its contents from this package requires the package name as prefix to the module name joined by a dot.\n",
    "\n",
    "# Break, Continue and Pass in Python\n",
    "- **Break**: The break statement terminates the loop immediately and the control flows to the statement after the body of the loop.\n",
    "- **Continue**: The continue statement terminates the current iteration of the statement, skips the rest of the code in the current iteration and the control flows to the next iteration of the loop.\n",
    "- **Pass**: As explained above, the pass keyword in Python is generally used to fill up empty blocks and is similar to an empty statement represented by a semi-colon in languages such as Java, C++, Javascript, etc.\n",
    "\n",
    "# Docstring in Python\n",
    "- Documentation string or docstring is a multiline string used to document a specific code segment.\n",
    "- The docstring should describe what the function or method does.\n",
    "\n",
    "Docstring in Methods:"
   ]
  },
  {
   "cell_type": "code",
   "execution_count": 10,
   "id": "0d090ab9-68be-4613-a4c1-24ebff612f7f",
   "metadata": {},
   "outputs": [],
   "source": [
    "def square(n):\n",
    "    '''Takes in a number n, returns the square of n'''\n",
    "    return n**2\n",
    "\n",
    "print(square.__doc__)"
   ]
  },
  {
   "cell_type": "markdown",
   "id": "80070ccc-bedd-4b60-94f9-11e96e5966e6",
   "metadata": {},
   "source": [
    "Docstring in build in functions"
   ]
  },
  {
   "cell_type": "code",
   "execution_count": 11,
   "id": "760350ae-1e7d-4a57-8e23-91b760c57544",
   "metadata": {},
   "outputs": [
    {
     "name": "stdout",
     "output_type": "stream",
     "text": [
      "print(value, ..., sep=' ', end='\\n', file=sys.stdout, flush=False)\n",
      "\n",
      "Prints the values to a stream, or to sys.stdout by default.\n",
      "Optional keyword arguments:\n",
      "file:  a file-like object (stream); defaults to the current sys.stdout.\n",
      "sep:   string inserted between values, default a space.\n",
      "end:   string appended after the last value, default a newline.\n",
      "flush: whether to forcibly flush the stream.\n"
     ]
    }
   ],
   "source": [
    "print(print.__doc__)"
   ]
  },
  {
   "cell_type": "markdown",
   "id": "91e2a3fd-8384-4d46-91ae-425ffb9bb2ff",
   "metadata": {},
   "source": [
    "Docstring in classes"
   ]
  },
  {
   "cell_type": "code",
   "execution_count": 26,
   "id": "f708eb23-2a8a-4cb0-85a1-a111c9f0a6df",
   "metadata": {},
   "outputs": [
    {
     "name": "stdout",
     "output_type": "stream",
     "text": [
      "\n",
      "    A class to represent a person.\n",
      "    \n",
      "-----\n",
      "\n",
      "        Constructs all the necessary attributes for the person object.\n",
      "        \n",
      "-----\n",
      "\n",
      "        Prints the person's name and age.\n",
      "        \n"
     ]
    }
   ],
   "source": [
    "class Person:\n",
    "    \"\"\"\n",
    "    A class to represent a person.\n",
    "    \"\"\"\n",
    "    def __init__(self, name, surname, age):\n",
    "        \"\"\"\n",
    "        Constructs all the necessary attributes for the person object.\n",
    "        \"\"\"\n",
    "        self.name = name\n",
    "        self.surname = surname\n",
    "        self.age = age\n",
    "\n",
    "    def info(self, additional=\"\"):\n",
    "        \"\"\"\n",
    "        Prints the person's name and age.\n",
    "        \"\"\"\n",
    "\n",
    "print(Person.__doc__)\n",
    "print(\"-----\")\n",
    "print(Person.__init__.__doc__)\n",
    "print(\"-----\")\n",
    "print(Person.info.__doc__)"
   ]
  },
  {
   "cell_type": "markdown",
   "id": "fb17ec96-dd59-4cb8-b70a-609df7b09602",
   "metadata": {},
   "source": [
    "### Making a Python script executable and runnable from anywhere\n",
    "\n",
    "On unix systems, Python scripts can be made executable using the following process:\n",
    "1. Add this line as the first line in the script:\n",
    "`#!/usr/bin/env python3`\n",
    "2. At the unix command prompt, type the following to make myscript.py executable:\n",
    "`$ chmod +x myscript.py`\n",
    "3. Move myscript.py into your bin directory, and it will be runnable from anywhere."
   ]
  },
  {
   "cell_type": "markdown",
   "id": "46021af0-397f-423b-b9d8-3044a18a6acc",
   "metadata": {},
   "source": [
    "### Scope Resolution in Python"
   ]
  },
  {
   "cell_type": "code",
   "execution_count": 49,
   "id": "259a940c-c5d0-49ba-9940-02af8c0ef821",
   "metadata": {},
   "outputs": [
    {
     "name": "stdout",
     "output_type": "stream",
     "text": [
      "10\n",
      "20\n",
      "10\n"
     ]
    }
   ],
   "source": [
    "temp = 10   # global-scope variable\n",
    "def func():\n",
    "    temp = 20   # local-scope variable\n",
    "    print(temp)\n",
    "print(temp)   # output => 10\n",
    "func()    # output => 20\n",
    "print(temp)   # output => 10"
   ]
  },
  {
   "cell_type": "code",
   "execution_count": 50,
   "id": "bd829f0d-98de-450a-a79e-2a44366592de",
   "metadata": {},
   "outputs": [
    {
     "name": "stdout",
     "output_type": "stream",
     "text": [
      "10\n",
      "20\n",
      "20\n"
     ]
    }
   ],
   "source": [
    "temp = 10   # global-scope variable\n",
    "def func():\n",
    "    global temp #<------- use the global variable\n",
    "    temp = 20   # local-scope variable\n",
    "    print(temp)\n",
    "print(temp)   # output => 10\n",
    "func()    # output => 20\n",
    "print(temp)   # output => 20"
   ]
  },
  {
   "cell_type": "markdown",
   "id": "bc432515-aadd-449c-b7db-be54c4f34e74",
   "metadata": {},
   "source": [
    "### Decorators\n",
    "- Decorators in Python are essentially functions that add functionality to an existing function in Python without changing the structure of the function itself. They are represented the @decorator_name in Python and are called in a bottom-up fashion. For example:\n"
   ]
  },
  {
   "cell_type": "code",
   "execution_count": null,
   "id": "d6cd55f1-ec33-449b-bc4a-5cacc5218dbb",
   "metadata": {},
   "outputs": [],
   "source": []
  },
  {
   "cell_type": "code",
   "execution_count": null,
   "id": "19b1241f-41cc-4bcf-bf16-acee7e967c7c",
   "metadata": {},
   "outputs": [],
   "source": []
  },
  {
   "cell_type": "code",
   "execution_count": null,
   "id": "30efa932-9eab-44ea-9228-62f8f175c8e9",
   "metadata": {},
   "outputs": [],
   "source": []
  },
  {
   "cell_type": "markdown",
   "id": "23d6181d-75be-43bf-8e1d-a67cd5dc186b",
   "metadata": {},
   "source": [
    "# Reference\n",
    "- https://www.interviewbit.com/python-interview-questions/"
   ]
  }
 ],
 "metadata": {
  "kernelspec": {
   "display_name": "Python 3 (ipykernel)",
   "language": "python",
   "name": "python3"
  },
  "language_info": {
   "codemirror_mode": {
    "name": "ipython",
    "version": 3
   },
   "file_extension": ".py",
   "mimetype": "text/x-python",
   "name": "python",
   "nbconvert_exporter": "python",
   "pygments_lexer": "ipython3",
   "version": "3.9.12"
  }
 },
 "nbformat": 4,
 "nbformat_minor": 5
}
