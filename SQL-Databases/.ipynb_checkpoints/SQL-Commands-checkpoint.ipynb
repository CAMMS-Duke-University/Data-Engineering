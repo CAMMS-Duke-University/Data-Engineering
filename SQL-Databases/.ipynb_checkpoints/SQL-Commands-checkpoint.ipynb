{
 "cells": [
  {
   "cell_type": "code",
   "execution_count": 1,
   "id": "348ee10d-0687-4617-8cf2-d51ba76be71c",
   "metadata": {},
   "outputs": [
    {
     "name": "stdout",
     "output_type": "stream",
     "text": [
      "8.0.31\n",
      "['/Users/jacobkritikos/opt/anaconda3/lib/python3.9/site-packages/mysql/connector']\n"
     ]
    }
   ],
   "source": [
    "import mysql.connector\n",
    "from mysql.connector import Error # import Error function separately to have easy access to it\n",
    "print(mysql.connector.__version__)\n",
    "print(mysql.connector.__path__)\n",
    "import pandas as pd\n",
    "from sql_functions import *"
   ]
  },
  {
   "cell_type": "code",
   "execution_count": 2,
   "id": "0c7cf1da-abc6-4d21-a075-ce8404293730",
   "metadata": {},
   "outputs": [
    {
     "name": "stdout",
     "output_type": "stream",
     "text": [
      "MySQL Database connection successful\n",
      "<mysql.connector.connection.MySQLConnection object at 0x7fce7abd3df0>\n"
     ]
    }
   ],
   "source": [
    "# ------------------------- Connect to a my SQL Server to get Access to DBs\n",
    "connection = create_server_connection(\"localhost\", \"3306\", \"root\", \"myrootpass22\")\n",
    "print(connection)"
   ]
  },
  {
   "cell_type": "code",
   "execution_count": 12,
   "id": "a97ec004-ffd5-4360-8c90-cdc885e5f359",
   "metadata": {},
   "outputs": [
    {
     "data": {
      "text/plain": [
       "['information_schema', 'mydatabase', 'mysql', 'performance_schema', 'sys']"
      ]
     },
     "execution_count": 12,
     "metadata": {},
     "output_type": "execute_result"
    }
   ],
   "source": [
    "# ------------------------- Print Available DBs \n",
    "show_databases(connection)"
   ]
  },
  {
   "cell_type": "code",
   "execution_count": 5,
   "id": "4bba58ec-2919-4956-85b8-6973e77252c6",
   "metadata": {},
   "outputs": [
    {
     "name": "stdout",
     "output_type": "stream",
     "text": [
      "We have this Database\n"
     ]
    }
   ],
   "source": [
    "# ------------------------- Check is there is a particular Database\n",
    "check_database(connection,\"mydatabase\")"
   ]
  },
  {
   "cell_type": "code",
   "execution_count": 6,
   "id": "bf5b7934-f51d-4171-8efe-83742ef5c671",
   "metadata": {},
   "outputs": [
    {
     "name": "stdout",
     "output_type": "stream",
     "text": [
      "We have this Database\n"
     ]
    }
   ],
   "source": [
    "# ------------------------- Create a Database and Check\n",
    "create_database(connection, \"mydatabase\")"
   ]
  },
  {
   "cell_type": "code",
   "execution_count": 11,
   "id": "567afa53-8ce2-4664-9695-d8c8e825eaee",
   "metadata": {},
   "outputs": [
    {
     "name": "stdout",
     "output_type": "stream",
     "text": [
      "Database deleted successfully\n",
      "No such a Database\n"
     ]
    }
   ],
   "source": [
    "# ------------------------- Create a Database and Check\n",
    "delete_database(connection,\"mydatabase2\")"
   ]
  }
 ],
 "metadata": {
  "kernelspec": {
   "display_name": "Python 3 (ipykernel)",
   "language": "python",
   "name": "python3"
  },
  "language_info": {
   "codemirror_mode": {
    "name": "ipython",
    "version": 3
   },
   "file_extension": ".py",
   "mimetype": "text/x-python",
   "name": "python",
   "nbconvert_exporter": "python",
   "pygments_lexer": "ipython3",
   "version": "3.9.12"
  }
 },
 "nbformat": 4,
 "nbformat_minor": 5
}
