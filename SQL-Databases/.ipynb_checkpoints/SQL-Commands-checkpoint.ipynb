{
 "cells": [
  {
   "cell_type": "code",
   "execution_count": 1,
   "id": "348ee10d-0687-4617-8cf2-d51ba76be71c",
   "metadata": {},
   "outputs": [
    {
     "name": "stdout",
     "output_type": "stream",
     "text": [
      "8.0.31\n",
      "['/Users/jacobkritikos/opt/anaconda3/lib/python3.9/site-packages/mysql/connector']\n"
     ]
    }
   ],
   "source": [
    "import mysql.connector\n",
    "from mysql.connector import Error # import Error function separately to have easy access to it\n",
    "print(mysql.connector.__version__)\n",
    "print(mysql.connector.__path__)\n",
    "import pandas as pd\n",
    "from sql_functions import *"
   ]
  },
  {
   "cell_type": "code",
   "execution_count": 2,
   "id": "0c7cf1da-abc6-4d21-a075-ce8404293730",
   "metadata": {},
   "outputs": [
    {
     "name": "stdout",
     "output_type": "stream",
     "text": [
      "MySQL Database connection successful\n",
      "<mysql.connector.connection.MySQLConnection object at 0x7fc4e18b0a30>\n"
     ]
    }
   ],
   "source": [
    "# ------------------------- Connect to a my SQL Server to get Access to DBs\n",
    "connection = create_server_connection(\"localhost\", \"3306\", \"root\", \"myrootpass22\")\n",
    "print(connection)"
   ]
  },
  {
   "cell_type": "code",
   "execution_count": 3,
   "id": "a97ec004-ffd5-4360-8c90-cdc885e5f359",
   "metadata": {},
   "outputs": [
    {
     "data": {
      "text/plain": [
       "['information_schema',\n",
       " 'mydatabase',\n",
       " 'mysql',\n",
       " 'performance_schema',\n",
       " 'Persons',\n",
       " 'sys']"
      ]
     },
     "execution_count": 3,
     "metadata": {},
     "output_type": "execute_result"
    }
   ],
   "source": [
    "# ------------------------- Print Available DBs \n",
    "show_databases(connection)"
   ]
  },
  {
   "cell_type": "code",
   "execution_count": 5,
   "id": "4bba58ec-2919-4956-85b8-6973e77252c6",
   "metadata": {},
   "outputs": [
    {
     "name": "stdout",
     "output_type": "stream",
     "text": [
      "We have this Database\n"
     ]
    }
   ],
   "source": [
    "# ------------------------- Check is there is a particular Database\n",
    "check_database(connection,\"mydatabase\")"
   ]
  },
  {
   "cell_type": "code",
   "execution_count": 6,
   "id": "bf5b7934-f51d-4171-8efe-83742ef5c671",
   "metadata": {},
   "outputs": [
    {
     "name": "stdout",
     "output_type": "stream",
     "text": [
      "We have this Database\n"
     ]
    }
   ],
   "source": [
    "# ------------------------- Create a Database and Check\n",
    "create_database(connection, \"mydatabase\")"
   ]
  },
  {
   "cell_type": "code",
   "execution_count": 11,
   "id": "567afa53-8ce2-4664-9695-d8c8e825eaee",
   "metadata": {},
   "outputs": [
    {
     "name": "stdout",
     "output_type": "stream",
     "text": [
      "Database deleted successfully\n",
      "No such a Database\n"
     ]
    }
   ],
   "source": [
    "# ------------------------- Delete a Database\n",
    "delete_database(connection,\"mydatabase2\")"
   ]
  },
  {
   "cell_type": "code",
   "execution_count": 4,
   "id": "b6a0e70e-83a9-4aba-ad9e-39c3b788998f",
   "metadata": {},
   "outputs": [
    {
     "name": "stdout",
     "output_type": "stream",
     "text": [
      "Error: '1049 (42000): Unknown database 'test''\n",
      "None\n"
     ]
    }
   ],
   "source": []
  },
  {
   "cell_type": "code",
   "execution_count": null,
   "id": "7466aa1b-6418-4978-b24f-87cf24acd6c9",
   "metadata": {},
   "outputs": [],
   "source": []
  },
  {
   "cell_type": "code",
   "execution_count": null,
   "id": "3272ea4a-ac4c-4370-9fc3-4e9893574dd0",
   "metadata": {},
   "outputs": [],
   "source": []
  },
  {
   "cell_type": "code",
   "execution_count": 3,
   "id": "a69605ba-be9a-4755-8ef3-64bff1496e37",
   "metadata": {},
   "outputs": [
    {
     "name": "stdout",
     "output_type": "stream",
     "text": [
      "MySQL Database connection successful\n",
      "Connection successful to Persons\n",
      "<mysql.connector.connection.MySQLConnection object at 0x7f80e883b7f0>\n",
      "('teacher',)\n"
     ]
    }
   ],
   "source": [
    "# ------------------------- Connecting to MySQL Server in a particular Database\n",
    "connection = db_connection(\"localhost\", \"3306\", \"root\", \"myrootpass22\",\"Persons\")\n",
    "print(connection)\n",
    "\n",
    "myresult = execute_query_fetch(connection,\"Show tables;\")\n",
    "for x in myresult:\n",
    "    print(x)"
   ]
  },
  {
   "cell_type": "code",
   "execution_count": null,
   "id": "6f96a10e-9809-4f00-bccd-cf882002f516",
   "metadata": {},
   "outputs": [],
   "source": []
  },
  {
   "cell_type": "code",
   "execution_count": null,
   "id": "4f91adb6-ab83-4958-a11a-074b4e89089e",
   "metadata": {},
   "outputs": [],
   "source": [
    "        connection = mysql.connector.connect(\n",
    "            host=host_name,\n",
    "            port = port_name,\n",
    "            user=user_name,\n",
    "            passwd=user_password\n",
    "        )"
   ]
  },
  {
   "cell_type": "code",
   "execution_count": 32,
   "id": "3179b119-566e-4c46-82e4-4a844fe2a684",
   "metadata": {},
   "outputs": [
    {
     "name": "stdout",
     "output_type": "stream",
     "text": [
      "('teacher',)\n"
     ]
    }
   ],
   "source": [
    "mydb = mysql.connector.connect(\n",
    "    host=\"localhost\",\n",
    "    port = \"3306\",\n",
    "    user=\"root\",\n",
    "    password=\"myrootpass22\",\n",
    "    database=\"Persons\"\n",
    ")\n",
    " \n",
    "mycursor = mydb.cursor()\n",
    " \n",
    "mycursor.execute(\"Show tables;\")\n",
    "\n",
    "myresult = mycursor.fetchall()\n",
    " \n",
    "for x in myresult:\n",
    "    print(x)"
   ]
  },
  {
   "cell_type": "code",
   "execution_count": 29,
   "id": "3cfe241c-82a0-43eb-b6b8-298a658acf4a",
   "metadata": {},
   "outputs": [
    {
     "name": "stdout",
     "output_type": "stream",
     "text": [
      "Error: 'Unread result found'\n"
     ]
    }
   ],
   "source": [
    "create_teacher_table = \"\"\"\n",
    "CREATE TABLE teacher (\n",
    "  teacher_id INT PRIMARY KEY,\n",
    "  first_name VARCHAR(40) NOT NULL,\n",
    "  last_name VARCHAR(40) NOT NULL,\n",
    "  language_1 VARCHAR(3) NOT NULL,\n",
    "  language_2 VARCHAR(3),\n",
    "  dob DATE,\n",
    "  tax_id INT UNIQUE,\n",
    "  phone_no VARCHAR(20)\n",
    "  );\n",
    " \"\"\"\n",
    "\n",
    "test_queries = \"\"\"\n",
    "SHOW TABLES FROM Persons;\n",
    " \"\"\"\n",
    "\n",
    "\n",
    "#execute_query(connection, \"\"\"USE Persons;\"\"\") # Execute our defined query\n",
    "\n",
    "#execute_query(connection, create_teacher_table) # Execute our defined query\n",
    "\n",
    "execute_query(connection,  test_queries) # Execute our defined query"
   ]
  }
 ],
 "metadata": {
  "kernelspec": {
   "display_name": "Python 3 (ipykernel)",
   "language": "python",
   "name": "python3"
  },
  "language_info": {
   "codemirror_mode": {
    "name": "ipython",
    "version": 3
   },
   "file_extension": ".py",
   "mimetype": "text/x-python",
   "name": "python",
   "nbconvert_exporter": "python",
   "pygments_lexer": "ipython3",
   "version": "3.9.12"
  }
 },
 "nbformat": 4,
 "nbformat_minor": 5
}
