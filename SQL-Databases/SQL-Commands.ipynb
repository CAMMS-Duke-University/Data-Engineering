{
 "cells": [
  {
   "cell_type": "code",
   "execution_count": 1,
   "id": "348ee10d-0687-4617-8cf2-d51ba76be71c",
   "metadata": {},
   "outputs": [
    {
     "name": "stdout",
     "output_type": "stream",
     "text": [
      "8.0.31\n",
      "['/Users/jacobkritikos/opt/anaconda3/lib/python3.9/site-packages/mysql/connector']\n"
     ]
    }
   ],
   "source": [
    "import mysql.connector\n",
    "from mysql.connector import Error # import Error function separately to have easy access to it\n",
    "print(mysql.connector.__version__)\n",
    "print(mysql.connector.__path__)\n",
    "import pandas as pd\n",
    "from sql_functions import *"
   ]
  },
  {
   "cell_type": "code",
   "execution_count": 2,
   "id": "0c7cf1da-abc6-4d21-a075-ce8404293730",
   "metadata": {},
   "outputs": [
    {
     "name": "stdout",
     "output_type": "stream",
     "text": [
      "MySQL Database connection successful\n",
      "<mysql.connector.connection.MySQLConnection object at 0x7fc4e18b0a30>\n"
     ]
    }
   ],
   "source": [
    "# ------------------------- Connect to a my SQL Server to get Access to DBs\n",
    "connection = create_server_connection(\"localhost\", \"3306\", \"root\", \"myrootpass22\")\n",
    "print(connection)"
   ]
  },
  {
   "cell_type": "code",
   "execution_count": 3,
   "id": "a97ec004-ffd5-4360-8c90-cdc885e5f359",
   "metadata": {},
   "outputs": [
    {
     "data": {
      "text/plain": [
       "['information_schema',\n",
       " 'mydatabase',\n",
       " 'mysql',\n",
       " 'performance_schema',\n",
       " 'Persons',\n",
       " 'sys']"
      ]
     },
     "execution_count": 3,
     "metadata": {},
     "output_type": "execute_result"
    }
   ],
   "source": [
    "# ------------------------- Print Available DBs \n",
    "show_databases(connection)"
   ]
  },
  {
   "cell_type": "code",
   "execution_count": 5,
   "id": "4bba58ec-2919-4956-85b8-6973e77252c6",
   "metadata": {},
   "outputs": [
    {
     "name": "stdout",
     "output_type": "stream",
     "text": [
      "We have this Database\n"
     ]
    }
   ],
   "source": [
    "# ------------------------- Check is there is a particular Database\n",
    "check_database(connection,\"mydatabase\")"
   ]
  },
  {
   "cell_type": "code",
   "execution_count": 6,
   "id": "bf5b7934-f51d-4171-8efe-83742ef5c671",
   "metadata": {},
   "outputs": [
    {
     "name": "stdout",
     "output_type": "stream",
     "text": [
      "We have this Database\n"
     ]
    }
   ],
   "source": [
    "# ------------------------- Create a Database and Check\n",
    "create_database(connection, \"mydatabase\")"
   ]
  },
  {
   "cell_type": "code",
   "execution_count": 11,
   "id": "567afa53-8ce2-4664-9695-d8c8e825eaee",
   "metadata": {},
   "outputs": [
    {
     "name": "stdout",
     "output_type": "stream",
     "text": [
      "Database deleted successfully\n",
      "No such a Database\n"
     ]
    }
   ],
   "source": [
    "# ------------------------- Delete a Database\n",
    "delete_database(connection,\"mydatabase2\")"
   ]
  },
  {
   "cell_type": "code",
   "execution_count": null,
   "id": "7466aa1b-6418-4978-b24f-87cf24acd6c9",
   "metadata": {},
   "outputs": [],
   "source": []
  },
  {
   "cell_type": "code",
   "execution_count": null,
   "id": "3272ea4a-ac4c-4370-9fc3-4e9893574dd0",
   "metadata": {},
   "outputs": [],
   "source": []
  },
  {
   "cell_type": "code",
   "execution_count": 2,
   "id": "631cfac1-c2ba-4be7-bcea-81a97e0f2a20",
   "metadata": {},
   "outputs": [
    {
     "name": "stdout",
     "output_type": "stream",
     "text": [
      "MySQL Database connection successful\n",
      "Connection successful to Persons\n",
      "<mysql.connector.connection.MySQLConnection object at 0x7faf684e5a00>\n"
     ]
    }
   ],
   "source": [
    "# ------------------------- Connecting to MySQL Server in a particular Database\n",
    "connection = db_connection(\"localhost\", \"3306\", \"root\", \"myrootpass22\",\"Persons\")\n",
    "print(connection)"
   ]
  },
  {
   "cell_type": "code",
   "execution_count": 3,
   "id": "99957c91-4178-4f0e-9379-06cb6eb6e6ec",
   "metadata": {},
   "outputs": [
    {
     "name": "stdout",
     "output_type": "stream",
     "text": [
      "('Persons', 'BASE TABLE')\n",
      "('teacher', 'BASE TABLE')\n"
     ]
    }
   ],
   "source": [
    "query = \"\"\"\n",
    "SHOW FULL TABLES;\n",
    " \"\"\" \n",
    "myresult = execute_query_fetch(connection, query)\n",
    "for x in myresult:\n",
    "    print(x)"
   ]
  },
  {
   "cell_type": "code",
   "execution_count": 4,
   "id": "0670b1bc-4e06-4773-9156-b9c5049118bc",
   "metadata": {},
   "outputs": [
    {
     "name": "stdout",
     "output_type": "stream",
     "text": [
      "('teacher_id', 'int', 'NO', 'PRI', None, '')\n",
      "('first_name', 'varchar(40)', 'NO', '', None, '')\n",
      "('last_name', 'varchar(40)', 'NO', '', None, '')\n",
      "('language_1', 'varchar(3)', 'NO', '', None, '')\n",
      "('language_2', 'varchar(3)', 'YES', '', None, '')\n",
      "('dob', 'date', 'YES', '', None, '')\n",
      "('tax_id', 'int', 'YES', 'UNI', None, '')\n",
      "('phone_no', 'varchar(20)', 'YES', '', None, '')\n"
     ]
    }
   ],
   "source": [
    "query = \"\"\"\n",
    "SHOW COLUMNS FROM teacher;\n",
    " \"\"\"\n",
    "myresult = execute_query_fetch(connection, query)\n",
    "for x in myresult:\n",
    "    print(x)"
   ]
  },
  {
   "cell_type": "code",
   "execution_count": 5,
   "id": "68e905e8-204b-47ed-9cfb-62c96ffab85e",
   "metadata": {},
   "outputs": [
    {
     "name": "stdout",
     "output_type": "stream",
     "text": [
      "Query successful\n",
      "('teacher_id', 'int', 'NO', 'PRI', None, '')\n",
      "('first_name', 'varchar(40)', 'NO', '', None, '')\n",
      "('last_name', 'varchar(40)', 'NO', '', None, '')\n",
      "('language_1', 'varchar(3)', 'NO', '', None, '')\n",
      "('dob', 'date', 'YES', '', None, '')\n",
      "('tax_id', 'int', 'YES', 'UNI', None, '')\n",
      "('phone_no', 'varchar(20)', 'YES', '', None, '')\n"
     ]
    }
   ],
   "source": [
    "query = \"\"\"\n",
    "ALTER TABLE teacher\n",
    "DROP COLUMN language_2;\n",
    "\"\"\"\n",
    "execute_query_commit(connection, query)\n",
    "\n",
    "query = \"\"\"\n",
    "SHOW COLUMNS FROM teacher;\n",
    " \"\"\"\n",
    "myresult = execute_query_fetch(connection, query)\n",
    "for x in myresult:\n",
    "    print(x)"
   ]
  },
  {
   "cell_type": "code",
   "execution_count": null,
   "id": "4f3e3140-f448-42e4-8421-58bbad2af083",
   "metadata": {},
   "outputs": [],
   "source": [
    "ALTER TABLE table_a   \n",
    "ADD CONSTRAINT pk_a\n",
    "PRIMARY KEY (col_b, col_c);\n"
   ]
  },
  {
   "cell_type": "code",
   "execution_count": 6,
   "id": "90b11eba-df31-4e9c-871f-315c60ecd68a",
   "metadata": {},
   "outputs": [
    {
     "name": "stdout",
     "output_type": "stream",
     "text": [
      "Query successful\n",
      "('teacher_id', 'int', 'NO', 'PRI', None, '')\n",
      "('first_name', 'varchar(40)', 'NO', '', None, '')\n",
      "('last_name', 'varchar(40)', 'NO', '', None, '')\n",
      "('language_1', 'varchar(5)', 'NO', '', None, '')\n",
      "('dob', 'date', 'YES', '', None, '')\n",
      "('tax_id', 'int', 'YES', 'UNI', None, '')\n",
      "('phone_no', 'varchar(20)', 'YES', '', None, '')\n"
     ]
    }
   ],
   "source": [
    "query = \"\"\"\n",
    "ALTER TABLE teacher\n",
    "MODIFY language_1 varchar(5) NOT NULL;\n",
    "\"\"\"\n",
    "execute_query_commit(connection, query)\n",
    "\n",
    "query = \"\"\"\n",
    "SHOW COLUMNS FROM teacher;\n",
    " \"\"\"\n",
    "myresult = execute_query_fetch(connection, query)\n",
    "for x in myresult:\n",
    "    print(x)"
   ]
  },
  {
   "cell_type": "code",
   "execution_count": null,
   "id": "6f96a10e-9809-4f00-bccd-cf882002f516",
   "metadata": {},
   "outputs": [],
   "source": []
  }
 ],
 "metadata": {
  "kernelspec": {
   "display_name": "Python 3 (ipykernel)",
   "language": "python",
   "name": "python3"
  },
  "language_info": {
   "codemirror_mode": {
    "name": "ipython",
    "version": 3
   },
   "file_extension": ".py",
   "mimetype": "text/x-python",
   "name": "python",
   "nbconvert_exporter": "python",
   "pygments_lexer": "ipython3",
   "version": "3.9.12"
  }
 },
 "nbformat": 4,
 "nbformat_minor": 5
}
