{
 "cells": [
  {
   "cell_type": "markdown",
   "id": "ce90a8dd-94b8-4dcb-8059-3b4b70ae5f92",
   "metadata": {},
   "source": [
    "# Palindrome Number"
   ]
  },
  {
   "cell_type": "code",
   "execution_count": null,
   "id": "e3df5f00-1502-4a0f-b2b5-f75e79f5aaec",
   "metadata": {},
   "outputs": [],
   "source": [
    "class Solution:\n",
    "    def isPalindrome(self, x: int) -> bool:\n",
    "        if x<0:\n",
    "            return False            \n",
    "        x_list = [int(x) for x in str(x)]\n",
    "        if(len(x_list)==1): #one number\n",
    "            return True\n",
    "        \n",
    "        head = 0 \n",
    "        tail = len(x_list)-1\n",
    "        while (head<=tail):\n",
    "            if(x_list[head] != x_list[tail]):\n",
    "                return False\n",
    "            else:\n",
    "                head +=1\n",
    "                tail -=1\n",
    "        return True"
   ]
  }
 ],
 "metadata": {
  "kernelspec": {
   "display_name": "Python 3 (ipykernel)",
   "language": "python",
   "name": "python3"
  },
  "language_info": {
   "codemirror_mode": {
    "name": "ipython",
    "version": 3
   },
   "file_extension": ".py",
   "mimetype": "text/x-python",
   "name": "python",
   "nbconvert_exporter": "python",
   "pygments_lexer": "ipython3",
   "version": "3.9.12"
  }
 },
 "nbformat": 4,
 "nbformat_minor": 5
}
