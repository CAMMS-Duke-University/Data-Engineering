{
 "cells": [
  {
   "cell_type": "code",
   "execution_count": 63,
   "id": "59a512a5-76c3-4d41-be1d-79eb81a7873e",
   "metadata": {},
   "outputs": [
    {
     "name": "stdout",
     "output_type": "stream",
     "text": [
      "West point [1, 1]\n",
      "North point [2, 4]\n",
      "East point [4, 2]\n",
      "South point [2, 0]\n",
      "[1, 1]\n",
      "[2, 4]\n",
      "[4, 2]\n",
      "[2, 0]\n",
      "Remain trees: [[2, 2], [3, 3]]\n"
     ]
    }
   ],
   "source": [
    "class Node:\n",
    "    def __init__(self, dataval=None):\n",
    "        self.dataval = dataval\n",
    "        self.nextval = None\n",
    "\n",
    "trees = [[1,1],[2,2],[2,0],[2,4],[3,3],[4,2]]\n",
    "\n",
    "head = Node(trees[0]) # find the most West tree\n",
    "for [x,y] in trees: \n",
    "    if x<head.dataval[0]:\n",
    "        head = Node([x,y])\n",
    "print(\"West point\",head.dataval) \n",
    "tail = head\n",
    "trees.remove(head.dataval) # remove West tree from the trees list\n",
    "\n",
    "new = Node(trees[0])\n",
    "for [x,y] in trees: \n",
    "    if y>new.dataval[1]:\n",
    "        new = Node([x,y])\n",
    "print(\"North point\",new.dataval) \n",
    "tail.nextval = new # Link first head(West) to the second North node\n",
    "tail = tail.nextval\n",
    "trees.remove(new.dataval) # remove North tree from the trees list\n",
    "\n",
    "new = Node(trees[0])\n",
    "for [x,y] in trees: \n",
    "    if x>new.dataval[0]:\n",
    "        new = Node([x,y])\n",
    "print(\"East point\",new.dataval) \n",
    "tail.nextval = new # Link North Node to East Node\n",
    "tail = tail.nextval\n",
    "trees.remove(new.dataval) # remove East tree from the trees list\n",
    "\n",
    "new = Node(trees[0])\n",
    "for [x,y] in trees: \n",
    "    if y<new.dataval[1]:\n",
    "        new = Node([x,y])\n",
    "print(\"South point\",new.dataval) \n",
    "tail.nextval = new # Link East Node to South Node\n",
    "tail = tail.nextval\n",
    "trees.remove(new.dataval) # remove South tree from the trees list\n",
    "\n",
    "tail.nextval = new # Link South Node to Wed Node END\n",
    "tail = tail.nextval\n",
    "trees.remove(new.dataval) # remove North tree from the trees list\n",
    "\n",
    "pointer = head\n",
    "while (pointer.nextval != None):\n",
    "    print(pointer.dataval)\n",
    "    pointer = pointer.nextval\n",
    "print(pointer.dataval) # last valaue\n",
    "\n",
    "print(\"Remain trees:\",trees)"
   ]
  },
  {
   "cell_type": "code",
   "execution_count": null,
   "id": "2abe006a-37b8-478a-b2a8-69421a8d20a1",
   "metadata": {},
   "outputs": [],
   "source": [
    "if (5<= 2M<="
   ]
  },
  {
   "cell_type": "code",
   "execution_count": 71,
   "id": "cb677122-1250-4357-a5a1-8148a8bd82bd",
   "metadata": {},
   "outputs": [
    {
     "name": "stdout",
     "output_type": "stream",
     "text": [
      "W-N found one\n",
      "found one\n",
      "N-E found one\n",
      "E-S found one\n"
     ]
    }
   ],
   "source": [
    "tree = [1.2,3.3]\n",
    "#tree = [2.2,3.3]\n",
    "pointer = head\n",
    "while (pointer.nextval != None):\n",
    "    tx = tree[0]\n",
    "    ty = tree[1]        \n",
    "    xi = pointer.dataval[0]\n",
    "    xj = pointer.dataval[1]\n",
    "    yi = pointer.nextval.dataval[0]\n",
    "    yj = pointer.nextval.dataval[1]\n",
    "    if(xi<=yi and xj<=yj): # West-North Check Point\n",
    "        print(\"W-N found one\")\n",
    "        if (xi<=tx<=yi and xj<=ty<=yj): # West-North\n",
    "            print(\"found one\")\n",
    "    elif(xi<=yi and yj<=xj): # North-East Check Point\n",
    "        print(\"N-E found one\")\n",
    "    elif(yi<=xi and yj<=xj): # East-South Check Point\n",
    "        print(\"E-S found one\")\n",
    "    elif(yi<=xi and xj<=yj): # South-West Check Point\n",
    "        print(\"S-W found one\")\n",
    "    #if (wx<=tx<=nx and wy<=ty<=ny): # West-North\n",
    "    #    print(\"found one\")\n",
    "    #elif ( <=tx<= and <=ty<=): # West-North\n",
    "        \n",
    "    pointer = pointer.nextval"
   ]
  },
  {
   "cell_type": "code",
   "execution_count": null,
   "id": "8bab27a2-89fb-4502-b23b-2c9489110de1",
   "metadata": {},
   "outputs": [],
   "source": []
  },
  {
   "cell_type": "code",
   "execution_count": 61,
   "id": "d3253d09-2a2a-4499-a36f-45e170a90f27",
   "metadata": {},
   "outputs": [
    {
     "name": "stdout",
     "output_type": "stream",
     "text": [
      "[1, 1]\n",
      "[2, 4]\n",
      "[4, 2]\n",
      "[2, 0]\n"
     ]
    }
   ],
   "source": []
  },
  {
   "cell_type": "code",
   "execution_count": null,
   "id": "ee54794d-9af4-4d75-9e23-a8158145fe19",
   "metadata": {},
   "outputs": [],
   "source": [
    "l3_head = l3_tail = ListNode(l3_list[0])\n",
    "for item in l3_list:\n",
    "    l3_tail.next = ListNode(item)\n",
    "    l3_tail = l3_tail.next"
   ]
  },
  {
   "cell_type": "code",
   "execution_count": 21,
   "id": "7abaab55-886c-48b1-81c1-3f949078ab05",
   "metadata": {},
   "outputs": [
    {
     "name": "stdout",
     "output_type": "stream",
     "text": [
      "[1, 1]\n",
      "[2, 4]\n"
     ]
    }
   ],
   "source": [
    "headlist = tail = linkedlist.headval\n",
    "print(tail.dataval)\n",
    "tail = tail.nextval\n",
    "print(tail.dataval)"
   ]
  },
  {
   "cell_type": "code",
   "execution_count": null,
   "id": "a0cc1b20-b790-45f7-bee6-dfe3ce35b8cc",
   "metadata": {},
   "outputs": [],
   "source": [
    "l3_list.pop(0)\n",
    "for item in linkedlist:\n",
    "    l3_tail.next = ListNode(item)\n",
    "    l3_tail = l3_tail.next"
   ]
  },
  {
   "cell_type": "code",
   "execution_count": 14,
   "id": "02b7999a-42d6-40d7-9a90-33e89b552a06",
   "metadata": {},
   "outputs": [
    {
     "name": "stdout",
     "output_type": "stream",
     "text": [
      "[2, 2]\n"
     ]
    }
   ],
   "source": [
    "north_tree = Node(trees[0])\n",
    "print(north_tree.dataval)"
   ]
  },
  {
   "cell_type": "code",
   "execution_count": 4,
   "id": "407bba7a-8b8f-433e-9cdd-4e83101fb41a",
   "metadata": {},
   "outputs": [
    {
     "name": "stdout",
     "output_type": "stream",
     "text": [
      "1 1\n",
      "2 2\n",
      "2 0\n",
      "2 4\n",
      "3 3\n",
      "4 2\n"
     ]
    }
   ],
   "source": [
    "list1.headval = Node(\"Mon\")\n",
    "for [x,y] in trees:\n",
    "    if x<min_x:\n",
    "        "
   ]
  }
 ],
 "metadata": {
  "kernelspec": {
   "display_name": "Python 3 (ipykernel)",
   "language": "python",
   "name": "python3"
  },
  "language_info": {
   "codemirror_mode": {
    "name": "ipython",
    "version": 3
   },
   "file_extension": ".py",
   "mimetype": "text/x-python",
   "name": "python",
   "nbconvert_exporter": "python",
   "pygments_lexer": "ipython3",
   "version": "3.9.12"
  }
 },
 "nbformat": 4,
 "nbformat_minor": 5
}
