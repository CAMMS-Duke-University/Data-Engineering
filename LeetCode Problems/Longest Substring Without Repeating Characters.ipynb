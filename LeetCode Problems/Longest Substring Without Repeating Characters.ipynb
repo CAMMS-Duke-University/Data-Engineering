{
 "cells": [
  {
   "cell_type": "markdown",
   "id": "a20ce505-e753-43d7-8a4d-47308a855964",
   "metadata": {},
   "source": [
    "# Longest Substring Without Repeating Characters"
   ]
  },
  {
   "cell_type": "code",
   "execution_count": null,
   "id": "227137f0-f56e-437c-a317-285b87cbebaf",
   "metadata": {},
   "outputs": [],
   "source": [
    "class Solution:\n",
    "    def lengthOfLongestSubstring(self, s: str) -> int:\n",
    "        max_lenght = 0\n",
    "        str_tail = str_head = 0\n",
    "        while str_tail<len(s):\n",
    "            if(s[str_tail] in s[str_head:str_tail]):\n",
    "                str_head = str_head + s[str_head:str_tail].index(s[str_tail]) +1\n",
    "                str_tail +=1\n",
    "            else:\n",
    "                str_tail +=1\n",
    "                if(max_lenght<len(s[str_head:str_tail])):\n",
    "                    max_lenght = len(s[str_head:str_tail])\n",
    "        return(max_lenght)"
   ]
  },
  {
   "cell_type": "code",
   "execution_count": null,
   "id": "b9ba146f-c375-4a99-b98a-c6c254a0525f",
   "metadata": {},
   "outputs": [],
   "source": []
  }
 ],
 "metadata": {
  "kernelspec": {
   "display_name": "Python 3 (ipykernel)",
   "language": "python",
   "name": "python3"
  },
  "language_info": {
   "codemirror_mode": {
    "name": "ipython",
    "version": 3
   },
   "file_extension": ".py",
   "mimetype": "text/x-python",
   "name": "python",
   "nbconvert_exporter": "python",
   "pygments_lexer": "ipython3",
   "version": "3.9.12"
  }
 },
 "nbformat": 4,
 "nbformat_minor": 5
}
