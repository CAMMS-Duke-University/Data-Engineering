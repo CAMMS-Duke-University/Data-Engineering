{
 "cells": [
  {
   "cell_type": "markdown",
   "id": "554668da-1007-476e-ad67-6726abbe3638",
   "metadata": {},
   "source": [
    "# Level 1 Solution\n"
   ]
  },
  {
   "cell_type": "code",
   "execution_count": 1,
   "id": "136b4d91-77af-4ecb-868b-9ab5c581c71c",
   "metadata": {},
   "outputs": [
    {
     "data": {
      "text/plain": [
       "\"did you see last night's episode?\""
      ]
     },
     "execution_count": 1,
     "metadata": {},
     "output_type": "execute_result"
    }
   ],
   "source": [
    "import string\n",
    "\n",
    "#----------------------\n",
    "def solution(x):\n",
    "    # Your code here\n",
    "    Alphabet_Dict_Encoder = {}\n",
    "    Alphabet_Dict_Decoder = {}\n",
    "    alphabet = list(string.ascii_lowercase)\n",
    "    for i in range(0,len(alphabet)):\n",
    "        Alphabet_Dict_Encoder[alphabet[i]] = \"<\"+ str(i)+\">\" \n",
    "        Alphabet_Dict_Decoder[\"<\"+ str(i)+\">\"] = alphabet[len(alphabet)-1-i]\n",
    "\n",
    "    for key, value in Alphabet_Dict_Encoder.items():\n",
    "        x = x.replace(key, value)\n",
    "\n",
    "    for key, value in Alphabet_Dict_Decoder.items():\n",
    "        x = x.replace(key, value)\n",
    "    return(x) \n",
    "\n",
    "solution(\"wrw blf hvv ozhg mrtsg'h vkrhlwv?\")"
   ]
  },
  {
   "cell_type": "markdown",
   "id": "8b777422-4d94-4ab6-a407-be396b4337bf",
   "metadata": {},
   "source": [
    "# Detailed Solution"
   ]
  },
  {
   "cell_type": "code",
   "execution_count": 2,
   "id": "3ac0b8e4-3e30-4990-a7dd-1367cd784a76",
   "metadata": {},
   "outputs": [
    {
     "name": "stdout",
     "output_type": "stream",
     "text": [
      "{'a': '<0>', 'b': '<1>', 'c': '<2>', 'd': '<3>', 'e': '<4>', 'f': '<5>', 'g': '<6>', 'h': '<7>', 'i': '<8>', 'j': '<9>', 'k': '<10>', 'l': '<11>', 'm': '<12>', 'n': '<13>', 'o': '<14>', 'p': '<15>', 'q': '<16>', 'r': '<17>', 's': '<18>', 't': '<19>', 'u': '<20>', 'v': '<21>', 'w': '<22>', 'x': '<23>', 'y': '<24>', 'z': '<25>'}\n",
      "{'<0>': 'z', '<1>': 'y', '<2>': 'x', '<3>': 'w', '<4>': 'v', '<5>': 'u', '<6>': 't', '<7>': 's', '<8>': 'r', '<9>': 'q', '<10>': 'p', '<11>': 'o', '<12>': 'n', '<13>': 'm', '<14>': 'l', '<15>': 'k', '<16>': 'j', '<17>': 'i', '<18>': 'h', '<19>': 'g', '<20>': 'f', '<21>': 'e', '<22>': 'd', '<23>': 'c', '<24>': 'b', '<25>': 'a'}\n",
      "wrw blf hvv ozhg mrtsg'h vkrhlwv?\n",
      "<22><17><22> <1><11><5> <7><21><21> <14><25><7><6> <12><17><19><18><6>'<7> <21><10><17><7><11><22><21>?\n",
      "did you see last night's episode?\n"
     ]
    }
   ],
   "source": [
    "Alphabet_Dict_Encoder = {}\n",
    "Alphabet_Dict_Decoder = {}\n",
    "alphabet = list(string.ascii_lowercase)\n",
    "for i in range(0,len(alphabet)):\n",
    "    Alphabet_Dict_Encoder[alphabet[i]] = \"<\"+ str(i)+\">\" \n",
    "    Alphabet_Dict_Decoder[\"<\"+ str(i)+\">\"] = alphabet[len(alphabet)-1-i]\n",
    "\n",
    "print(Alphabet_Dict_Encoder)\n",
    "print(Alphabet_Dict_Decoder)\n",
    "\n",
    "s = \"wrw blf hvv ozhg mrtsg'h vkrhlwv?\"\n",
    "print(s)\n",
    "for key, value in Alphabet_Dict_Encoder.items():\n",
    "    s = s.replace(key, value)\n",
    "print(s)\n",
    "\n",
    "for key, value in Alphabet_Dict_Decoder.items():\n",
    "    s = s.replace(key, value)\n",
    "print(s)    "
   ]
  }
 ],
 "metadata": {
  "kernelspec": {
   "display_name": "Python 3 (ipykernel)",
   "language": "python",
   "name": "python3"
  },
  "language_info": {
   "codemirror_mode": {
    "name": "ipython",
    "version": 3
   },
   "file_extension": ".py",
   "mimetype": "text/x-python",
   "name": "python",
   "nbconvert_exporter": "python",
   "pygments_lexer": "ipython3",
   "version": "3.9.12"
  }
 },
 "nbformat": 4,
 "nbformat_minor": 5
}
