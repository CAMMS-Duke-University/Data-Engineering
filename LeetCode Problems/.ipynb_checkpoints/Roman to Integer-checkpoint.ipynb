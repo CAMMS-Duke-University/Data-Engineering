{
 "cells": [
  {
   "cell_type": "markdown",
   "id": "5081f069-14ec-41a3-a670-e10afd9d98ca",
   "metadata": {},
   "source": [
    "# Roman to Integer"
   ]
  },
  {
   "cell_type": "code",
   "execution_count": null,
   "id": "b5f084e4-c129-4798-abce-92b3cc105aef",
   "metadata": {},
   "outputs": [],
   "source": [
    "class Solution:\n",
    "    def romanToInt(self, s: str) -> int:\n",
    "        RomanDict = {\n",
    "            \"IV\": 4,\n",
    "            \"IX\": 9,\n",
    "            \"XL\": 40,\n",
    "            \"XC\": 90,\n",
    "            \"CD\": 400,\n",
    "            \"CM\": 900,\n",
    "            \"I\": 1,\n",
    "            \"V\": 5,\n",
    "            \"X\": 10,\n",
    "            \"L\": 50,\n",
    "            \"C\": 100,\n",
    "            \"D\": 500,\n",
    "            \"M\": 1000    \n",
    "        }\n",
    "        number = 0\n",
    "        for roman_key, number_value in RomanDict.items():\n",
    "            times = s.count(roman_key)\n",
    "            number += times * number_value\n",
    "            s = s.replace(roman_key, \"-\")\n",
    "        return number"
   ]
  }
 ],
 "metadata": {
  "kernelspec": {
   "display_name": "Python 3 (ipykernel)",
   "language": "python",
   "name": "python3"
  },
  "language_info": {
   "codemirror_mode": {
    "name": "ipython",
    "version": 3
   },
   "file_extension": ".py",
   "mimetype": "text/x-python",
   "name": "python",
   "nbconvert_exporter": "python",
   "pygments_lexer": "ipython3",
   "version": "3.9.12"
  }
 },
 "nbformat": 4,
 "nbformat_minor": 5
}
