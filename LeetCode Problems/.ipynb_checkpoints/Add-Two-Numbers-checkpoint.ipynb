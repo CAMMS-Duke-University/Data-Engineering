{
 "cells": [
  {
   "cell_type": "markdown",
   "id": "b8b18fd8-d575-4e8f-b104-289b0c4a2f50",
   "metadata": {},
   "source": [
    "# Add Two Numbers "
   ]
  },
  {
   "cell_type": "code",
   "execution_count": null,
   "id": "b060ff0e-4898-4d09-809f-d1450581a2e3",
   "metadata": {},
   "outputs": [],
   "source": [
    "# Definition for singly-linked list.\n",
    "class ListNode:\n",
    "    def __init__(self, val=0, next=None):\n",
    "        self.val = val\n",
    "        self.next = next\n",
    "\n",
    "class Solution:\n",
    "    def addTwoNumbers(self, l1: [ListNode], l2: Optional[ListNode]) -> Optional[ListNode]:\n",
    "        l1_list = []\n",
    "        while (l1!=None):\n",
    "            l1_list.append(l1.val)\n",
    "            l1 = l1.next\n",
    "\n",
    "        l2_list = []\n",
    "        while (l2!=None):\n",
    "            l2_list.append(l2.val)\n",
    "            l2 = l2.next\n",
    "\n",
    "        if len(l1_list)>len(l2_list):\n",
    "            zeros_extend = [0] * (len(l1_list)-len(l2_list))\n",
    "            l2_list.extend(zeros_extend)\n",
    "        elif len(l2_list)>len(l1_list):\n",
    "            zeros_extend = [0] * (len(l2_list)-len(l1_list))\n",
    "            l1_list.extend(zeros_extend)\n",
    "        else:\n",
    "            pass\n",
    "\n",
    "        l3_list = []\n",
    "        remain = 0\n",
    "        for i in range(0,len(l1_list)):\n",
    "            node_sum = l1_list[i]+l2_list[i]+remain\n",
    "            if(node_sum>=10):\n",
    "                remain = 1\n",
    "                l3_list.append(node_sum - 10)\n",
    "            else:\n",
    "                remain = 0\n",
    "                l3_list.append(node_sum)\n",
    "\n",
    "        if remain == 1:\n",
    "            l3_list.append(1)\n",
    "        \n",
    "        l3_head = l3_tail = ListNode(l3_list[0])\n",
    "        l3_list.pop(0)\n",
    "        for item in l3_list:\n",
    "            l3_tail.next = ListNode(item)\n",
    "            l3_tail = l3_tail.next\n",
    "        return l3_head"
   ]
  }
 ],
 "metadata": {
  "kernelspec": {
   "display_name": "Python 3 (ipykernel)",
   "language": "python",
   "name": "python3"
  },
  "language_info": {
   "codemirror_mode": {
    "name": "ipython",
    "version": 3
   },
   "file_extension": ".py",
   "mimetype": "text/x-python",
   "name": "python",
   "nbconvert_exporter": "python",
   "pygments_lexer": "ipython3",
   "version": "3.9.12"
  }
 },
 "nbformat": 4,
 "nbformat_minor": 5
}
