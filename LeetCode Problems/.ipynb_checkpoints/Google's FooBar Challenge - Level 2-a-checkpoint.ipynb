{
 "cells": [
  {
   "cell_type": "markdown",
   "id": "7a889248-eb43-401e-a3b9-9a57e1377877",
   "metadata": {},
   "source": [
    "# Level 2 (En Route Salute) Solution"
   ]
  },
  {
   "cell_type": "code",
   "execution_count": 56,
   "id": "6a41ea59-4f8f-4b83-8c8d-e731910a77d3",
   "metadata": {},
   "outputs": [
    {
     "name": "stdout",
     "output_type": "stream",
     "text": [
      "4\n"
     ]
    }
   ],
   "source": [
    "s = \"<-><<\"\n",
    "\n",
    "dict_salute={}\n",
    "for i in range(0,len(s)):\n",
    "    if(s[i]==\">\"):\n",
    "        dict_salute[i]=0\n",
    "    elif(s[i]==\"<\"):\n",
    "        for key in dict_salute:\n",
    "            dict_salute[key] +=1\n",
    "    else:\n",
    "        pass\n",
    "\n",
    "salute = sum(dict_salute.values())*2\n",
    "print(salute)"
   ]
  },
  {
   "cell_type": "markdown",
   "id": "4d3b905e-5087-442d-b843-1e05c0b0a47f",
   "metadata": {},
   "source": [
    "En Route Salute\n",
    "===============\n",
    "\n",
    "Commander Lambda loves efficiency and hates anything that wastes time. The Commander is a busy lamb, after all! Henchmen who identify sources of inefficiency and come up with ways to remove them are generously rewarded. You've spotted one such source, and you think solving it will help you build the reputation you need to get promoted.\n",
    "\n",
    "Every time the Commander's employees pass each other in the hall, each of them must stop and salute each other -- one at a time -- before resuming their path. A salute is five seconds long, so each exchange of salutes takes a full ten seconds (Commander Lambda's salute is a bit, er, involved). You think that by removing the salute requirement, you could save several collective hours of employee time per day. But first, you need to show the Commander how bad the problem really is.\n",
    "\n",
    "Write a program that counts how many salutes are exchanged during a typical walk along a hallway. The hall is represented by a string. For example:\n",
    "\"--->-><-><-->-\"\n",
    "\n",
    "Each hallway string will contain three different types of characters: '>', an employee walking to the right; '<', an employee walking to the left; and '-', an empty space. Every employee walks at the same speed either to right or to the left, according to their direction. Whenever two employees cross, each of them salutes the other. They then continue walking until they reach the end, finally leaving the hallway. In the above example, they salute 10 times.\n",
    "\n",
    "Write a function solution(s) which takes a string representing employees walking along a hallway and returns the number of times the employees will salute. s will contain at least 1 and at most 100 characters, each one of -, >, or <.\n",
    "\n",
    "Languages\n",
    "=========\n",
    "\n",
    "To provide a Python solution, edit solution.py  \n",
    "To provide a Java solution, edit Solution.java  \n",
    "\n",
    "Test cases  \n",
    "==========  \n",
    "Your code should pass the following test cases.  \n",
    "Note that it may also be run against hidden test cases not shown here.  \n",
    "  \n",
    "-- Python cases --    \n",
    "Input:   \n",
    "solution.solution(\">----<\")  \n",
    "Output:    \n",
    "    2  \n",
    "Input:    \n",
    "solution.solution(\"<<>><\")  \n",
    "Output:  \n",
    "    4  \n",
    "\n",
    "-- Java cases --  \n",
    "Input:  \n",
    "Solution.solution(\"<<>><\")  \n",
    "Output:  \n",
    "    4  \n",
    "\n",
    "Input:  \n",
    "Solution.solution(\">----<\")  \n",
    "Output:  \n",
    "    2  "
   ]
  }
 ],
 "metadata": {
  "kernelspec": {
   "display_name": "Python 3 (ipykernel)",
   "language": "python",
   "name": "python3"
  },
  "language_info": {
   "codemirror_mode": {
    "name": "ipython",
    "version": 3
   },
   "file_extension": ".py",
   "mimetype": "text/x-python",
   "name": "python",
   "nbconvert_exporter": "python",
   "pygments_lexer": "ipython3",
   "version": "3.9.12"
  }
 },
 "nbformat": 4,
 "nbformat_minor": 5
}
