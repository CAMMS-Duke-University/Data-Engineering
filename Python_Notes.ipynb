{
 "cells": [
  {
   "cell_type": "markdown",
   "id": "139be0b5-59b3-4023-a77d-435aef7026d8",
   "metadata": {},
   "source": [
    "# PEP 8\n",
    "\n",
    "PEP stands for Python Enhancement Proposal. A PEP is an official design document providing information to the Python community, or describing a new feature for Python or its processes. PEP 8 is especially important since it documents the style guidelines for Python Code. Apparently contributing to the Python open-source community requires you to follow these style guidelines sincerely and strictly."
   ]
  },
  {
   "cell_type": "code",
   "execution_count": null,
   "id": "3c924e87-0726-4e1e-9091-41b35e30a37b",
   "metadata": {},
   "outputs": [],
   "source": []
  },
  {
   "cell_type": "markdown",
   "id": "ec3a064b-d897-4c82-80f3-fc9f2c093197",
   "metadata": {},
   "source": [
    "# Data types in Python\n",
    "Python doesn't require data types to be defined explicitly during variable declarations \n",
    "\n",
    "1. **None Type**: Represents the NULL values in Python.\n",
    "2. **int**: Stores integer literals including hex, octal and binary numbers as integers\n",
    "3. **float**: Stores literals containing decimal values and/or exponent signs as floating-point numbers\n",
    "4. **complex**: Stores complex numbers in the form (A + Bj) and has attributes: real and imag\n",
    "5. **bool**: Stores boolean value (True or False).\n",
    "\n",
    "**Python Collections (Arrays)**:\n",
    "\n",
    "6. **Lists**: sequence data type, can have different data types. Square brackets `['sara', 6, 0.19]`. Lists are mutable, can be modified, appended or sliced on the go.\n",
    "7. **Tuples**: sequence data type, can have different data types. Parantheses `('ansh', 5, 0.97)`. Tuples are immutable objects, remain constant and cannot be modified in any manner.\n",
    "8. **Set**: is a collection which is unordered, unchangeable*, and unindexed. No duplicate members.\n",
    "9. **Dictionary** is a collection which is ordered** and changeable. No duplicate members. A mapping object can map hashable values to random objects in Python. Mappings objects are **mutable** and there is currently only one standard mapping type, the dictionary: **dict**.\n",
    "\n",
    "\n",
    "10. **Range**: Represents an immutable sequence of numbers generated during execution.\n",
    "11. **Immutable**: sequence of Unicode code points to store textual data."
   ]
  },
  {
   "cell_type": "markdown",
   "id": "7fe95424-24db-4d93-b907-af487c9803c1",
   "metadata": {},
   "source": [
    "### ----------- Lists and Tuples"
   ]
  },
  {
   "cell_type": "code",
   "execution_count": 6,
   "id": "4677acbf-e9ce-417f-ae11-64540eb6933d",
   "metadata": {},
   "outputs": [
    {
     "name": "stdout",
     "output_type": "stream",
     "text": [
      "print list item: sara\n",
      "print tuple item: sara\n",
      "Oops! modifying tuple => throws an error\n",
      "print updated list item: ansh\n",
      "print non-updated tuple item: sara\n",
      "<class 'range'>\n",
      "range(3, 6)\n"
     ]
    }
   ],
   "source": [
    "my_tuple = ('sara', 6, 5, 0.97)\n",
    "my_list = ['sara', 6, 5, 0.97]\n",
    "print(\"print list item:\",my_list[0])     \n",
    "print(\"print tuple item:\",my_tuple[0])     \n",
    "my_list[0] = 'ansh'    # modifying list => list modified\n",
    "try:\n",
    "    my_tuple[0] = 'ansh'\n",
    "except Exception:\n",
    "    print(\"Oops! modifying tuple => throws an error\")\n",
    "print(\"print updated list item:\",my_list[0])     \n",
    "print(\"print non-updated tuple item:\",my_tuple[0])  \n",
    "\n",
    "x = range(3, 6)\n",
    "print(type(x))\n",
    "print(x)"
   ]
  },
  {
   "cell_type": "markdown",
   "id": "7122d688-d74a-452d-af7b-fbc7c1c06e37",
   "metadata": {},
   "source": [
    "### ----------- Sets"
   ]
  },
  {
   "cell_type": "code",
   "execution_count": 67,
   "id": "2f79da47-4176-4795-a9f8-0bed966482c8",
   "metadata": {},
   "outputs": [
    {
     "name": "stdout",
     "output_type": "stream",
     "text": [
      "<class 'set'>\n",
      "banana\n",
      "apple\n",
      "cherry\n",
      "True\n",
      "{'banana', 'apple', 'cherry'}\n",
      "{'banana', 'orange', 'apple', 'cherry'}\n",
      "{'banana', 'orange', 'papaya', 'mango', 'pineapple', 'apple', 'cherry'}\n",
      "{'b', 1, 'a', 2, 3, 'c'}\n",
      "{'apple'}\n",
      "{'google', 'cherry', 'banana', 'microsoft'}\n",
      "{'orange', 'papaya', 'mango', 'pineapple', 'apple', 'cherry'}\n",
      "{'orange', 'papaya', 'mango', 'apple', 'cherry'}\n",
      "orange\n",
      "{'papaya', 'mango', 'apple', 'cherry'}\n",
      "set()\n"
     ]
    }
   ],
   "source": [
    "thisset = {\"apple\", \"banana\", \"cherry\"}\n",
    "print(type(thisset))\n",
    "for item in thisset:\n",
    "    print(item)\n",
    "\n",
    "print(\"banana\" in thisset)\n",
    "\n",
    "thisset = set((\"apple\", \"banana\", \"cherry\")) # note the double round-brackets\n",
    "print(thisset)\n",
    "\n",
    "thisset.add(\"orange\")\n",
    "print(thisset)\n",
    "\n",
    "tropical = {\"pineapple\", \"mango\", \"papaya\"}\n",
    "thisset.update(tropical) # Add elements \n",
    "print(thisset)\n",
    "\n",
    "set1 = {\"a\", \"b\" , \"c\"}\n",
    "set2 = {1, 2, 3}\n",
    "set3 = set1.union(set2)\n",
    "print(set3)\n",
    "\n",
    "x = {\"apple\", \"banana\", \"cherry\"}\n",
    "y = {\"google\", \"microsoft\", \"apple\"}\n",
    "x.intersection_update(y) # Keep the items that exist in both set x, and set y\n",
    "print(x)\n",
    "\n",
    "x = {\"apple\", \"banana\", \"cherry\"}\n",
    "y = {\"google\", \"microsoft\", \"apple\"}\n",
    "x.symmetric_difference_update(y) # Keep the items that are not present in both sets\n",
    "print(x)\n",
    "\n",
    "thisset.remove(\"banana\")\n",
    "print(thisset)\n",
    "\n",
    "thisset.discard(\"pineapple\")\n",
    "print(thisset)\n",
    "\n",
    "x = thisset.pop()\n",
    "print(x)\n",
    "print(thisset)\n",
    "\n",
    "thisset.clear() # or del thisset\n",
    "print(thisset)"
   ]
  },
  {
   "cell_type": "markdown",
   "id": "f4230c50-f759-4d0e-92fe-f88d1565fa44",
   "metadata": {},
   "source": [
    "### ----------- Mapping: "
   ]
  },
  {
   "cell_type": "code",
   "execution_count": 28,
   "id": "74996135-8197-46cd-8176-75dc3b6a55f4",
   "metadata": {},
   "outputs": [
    {
     "name": "stdout",
     "output_type": "stream",
     "text": [
      "<class 'dict'>\n",
      "{'brand': 'Ford', 'electric': False, 'year': 1964, 'colors': ['red', 'white', 'blue']}\n",
      "Ford\n",
      "4\n",
      "brand Ford\n",
      "electric False\n",
      "year 1964\n",
      "colors ['red', 'white', 'blue']\n",
      "----\n",
      "brand\n",
      "electric\n",
      "year\n",
      "colors\n",
      "----\n",
      "brand\n",
      "electric\n",
      "year\n",
      "colors\n",
      "----\n",
      "Ford\n",
      "False\n",
      "1964\n",
      "['red', 'white', 'blue']\n",
      "----\n",
      "Ford\n",
      "False\n",
      "1964\n",
      "['red', 'white', 'blue']\n"
     ]
    }
   ],
   "source": [
    "thisdict = {\n",
    "  \"brand\": \"Ford\",\n",
    "  \"electric\": False,\n",
    "  \"year\": 1964,\n",
    "  \"colors\": [\"red\", \"white\", \"blue\"]\n",
    "}\n",
    "print(type(thisdict))\n",
    "print(thisdict)\n",
    "print(thisdict[\"brand\"])\n",
    "print(len(thisdict))\n",
    "\n",
    "for x, y in thisdict.items():\n",
    "  print(x, y)\n",
    "print(\"----\")\n",
    "for x in thisdict:\n",
    "  print(x)\n",
    "print(\"----\")\n",
    "for x in thisdict.keys():\n",
    "  print(x)\n",
    "print(\"----\")\n",
    "for x in thisdict:\n",
    "  print(thisdict[x])\n",
    "print(\"----\")\n",
    "for x in thisdict.values():\n",
    "  print(x)"
   ]
  },
  {
   "cell_type": "code",
   "execution_count": 30,
   "id": "3d280a1c-69e4-4a1e-9acd-dfdb2a4b1094",
   "metadata": {},
   "outputs": [
    {
     "name": "stdout",
     "output_type": "stream",
     "text": [
      "Ford\n",
      "Ford\n",
      "dict_keys(['brand', 'electric', 'year', 'colors'])\n",
      "dict_values(['Ford', False, 1964, ['red', 'white', 'blue']])\n",
      "Yes, 'brand' is one of the keys in the thisdict dictionary\n",
      "{'brand': 'Ford', 'electric': False, 'year': 1964, 'colors': ['red', 'white', 'blue'], 'doors': 5}\n",
      "{'brand': 'Ford', 'electric': False, 'year': 1964, 'colors': ['red', 'white', 'blue'], 'doors': 4}\n",
      "{'brand': 'Ford', 'electric': False, 'year': 1964, 'colors': ['red', 'white', 'blue'], 'doors': 3}\n",
      "{'brand': 'Ford', 'electric': False, 'year': 1964, 'colors': ['red', 'white', 'blue']}\n",
      "{'brand': 'Ford', 'electric': False, 'year': 1964}\n",
      "{'brand': 'Ford', 'electric': False}\n",
      "{}\n"
     ]
    }
   ],
   "source": [
    "thisdict = {\n",
    "  \"brand\": \"Ford\",\n",
    "  \"electric\": False,\n",
    "  \"year\": 1964,\n",
    "  \"colors\": [\"red\", \"white\", \"blue\"]\n",
    "}\n",
    "\n",
    "# ----------- Get values\n",
    "x = thisdict[\"brand\"]\n",
    "print(x)\n",
    "x = thisdict.get(\"brand\")\n",
    "print(x)\n",
    "x = thisdict.keys()\n",
    "print(x)\n",
    "x = thisdict.values()\n",
    "print(x)\n",
    "\n",
    "# ----------- Checks values\n",
    "if \"brand\" in thisdict:\n",
    "  print(\"Yes, 'brand' is one of the keys in the thisdict dictionary\")\n",
    "\n",
    "# ----------- Add Modify values\n",
    "thisdict[\"doors\"] = 5 # add a new key and value\n",
    "print(thisdict)\n",
    "thisdict[\"doors\"] = 4 # modify an existing key and value\n",
    "print(thisdict)\n",
    "thisdict.update({\"doors\": 3}) # modify an existing key and value\n",
    "print(thisdict)\n",
    "\n",
    "# ----------- Remove values\n",
    "thisdict.pop(\"doors\") # removes the item with the specified key name\n",
    "print(thisdict)\n",
    "thisdict.popitem() # removes the last inserted item\n",
    "print(thisdict)\n",
    "del thisdict[\"year\"] # removes the item with the specified key name & can also delete the dictionary completely\n",
    "print(thisdict)\n",
    "thisdict.clear() # method empties the dictionary\n",
    "print(thisdict)"
   ]
  },
  {
   "cell_type": "code",
   "execution_count": 32,
   "id": "6a501755-228b-4e40-bf2d-664a96a90c13",
   "metadata": {},
   "outputs": [
    {
     "name": "stdout",
     "output_type": "stream",
     "text": [
      "{'brand': 'Ford', 'electric': False, 'year': 1964, 'colors': ['red', 'white', 'blue']}\n",
      "{'brand': 'Ford', 'electric': False, 'year': 1964, 'colors': ['red', 'white', 'blue']}\n"
     ]
    }
   ],
   "source": [
    "thisdict = {\n",
    "  \"brand\": \"Ford\",\n",
    "  \"electric\": False,\n",
    "  \"year\": 1964,\n",
    "  \"colors\": [\"red\", \"white\", \"blue\"]\n",
    "}\n",
    "\n",
    "mydict = thisdict.copy()\n",
    "print(mydict)\n",
    "mydict = dict(thisdict)\n",
    "print(mydict)"
   ]
  },
  {
   "cell_type": "code",
   "execution_count": 68,
   "id": "614cd4c5-66e9-49ad-a823-5fa6bba9fa3a",
   "metadata": {},
   "outputs": [
    {
     "name": "stdout",
     "output_type": "stream",
     "text": [
      "dict_keys(['child1', 'child2', 'child3'])\n",
      "child1\n",
      "child2\n",
      "child3\n"
     ]
    }
   ],
   "source": [
    "myfamily = {\n",
    "  \"child1\" : {\n",
    "    \"name\" : \"Emil\",\n",
    "    \"year\" : 2004\n",
    "  },\n",
    "  \"child2\" : {\n",
    "    \"name\" : \"Tobias\",\n",
    "    \"year\" : 2007\n",
    "  },\n",
    "  \"child3\" : {\n",
    "    \"name\" : \"Linus\",\n",
    "    \"year\" : 2011\n",
    "  }\n",
    "}\n",
    "print(myfamily.keys())\n",
    "for key in myfamily.keys():\n",
    "    print(key)"
   ]
  },
  {
   "cell_type": "code",
   "execution_count": 72,
   "id": "1b72df4c-f4a6-483d-bb1a-b13d99b0d6a0",
   "metadata": {},
   "outputs": [
    {
     "name": "stdout",
     "output_type": "stream",
     "text": [
      "None\n"
     ]
    }
   ],
   "source": [
    "def myEmptyFunc():\n",
    "   # do nothing\n",
    "   #return\n",
    "    pass\n",
    "print(myEmptyFunc())    # nothing happens\n",
    "## Without the pass keyword\n",
    "# File \"<stdin>\", line 3\n",
    "# IndentationError: expected an indented block"
   ]
  },
  {
   "cell_type": "markdown",
   "id": "3c488dc4-29c3-4f2a-8cb7-035e21bfcc76",
   "metadata": {},
   "source": [
    "# Modules and Packages in Python\n",
    "- **Modules**, are simply Python files with a .py extension and can have a set of functions, classes, or variables defined and implemented. They can be imported and initialized once using the import statement. If partial functionality is needed, import the requisite classes or functions using from foo import bar.\n",
    "- **Packages** allow for hierarchial structuring of the module namespace using dot notation. As, modules help avoid clashes between global variable names, in a similar manner, packages help avoid clashes between module names.\n",
    "\n",
    "Creating a package is easy since it makes use of the system's inherent file structure. So just stuff the modules into a folder and there you have it, the folder name as the package name. Importing a module or its contents from this package requires the package name as prefix to the module name joined by a dot.\n"
   ]
  },
  {
   "cell_type": "markdown",
   "id": "b7c1f6e1-3056-451a-b36f-a0b46789e40e",
   "metadata": {},
   "source": [
    "# Classes\n"
   ]
  },
  {
   "cell_type": "code",
   "execution_count": null,
   "id": "d7f1e69e-5fe3-4161-9a7a-046da1a2fb49",
   "metadata": {},
   "outputs": [],
   "source": [
    "# "
   ]
  },
  {
   "cell_type": "code",
   "execution_count": null,
   "id": "55275f51-c3e6-4e97-af11-da17a692f6fb",
   "metadata": {},
   "outputs": [],
   "source": []
  },
  {
   "cell_type": "code",
   "execution_count": null,
   "id": "259a940c-c5d0-49ba-9940-02af8c0ef821",
   "metadata": {},
   "outputs": [],
   "source": []
  },
  {
   "cell_type": "markdown",
   "id": "23d6181d-75be-43bf-8e1d-a67cd5dc186b",
   "metadata": {},
   "source": [
    "# Reference\n",
    "- https://www.interviewbit.com/python-interview-questions/"
   ]
  }
 ],
 "metadata": {
  "kernelspec": {
   "display_name": "Python 3 (ipykernel)",
   "language": "python",
   "name": "python3"
  },
  "language_info": {
   "codemirror_mode": {
    "name": "ipython",
    "version": 3
   },
   "file_extension": ".py",
   "mimetype": "text/x-python",
   "name": "python",
   "nbconvert_exporter": "python",
   "pygments_lexer": "ipython3",
   "version": "3.9.12"
  }
 },
 "nbformat": 4,
 "nbformat_minor": 5
}
