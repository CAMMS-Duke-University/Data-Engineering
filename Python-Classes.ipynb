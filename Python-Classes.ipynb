{
 "cells": [
  {
   "cell_type": "code",
   "execution_count": 5,
   "id": "42b204ed-3ae1-476a-aeaf-1129d9dfe49a",
   "metadata": {},
   "outputs": [
    {
     "name": "stdout",
     "output_type": "stream",
     "text": [
      "5\n"
     ]
    }
   ],
   "source": [
    "class MyClass: # Create a class named MyClass, with a property named x:\n",
    "    x = 5\n",
    "    \n",
    "p1 = MyClass() # Create an object named p1, and print the value of x:\n",
    "print(p1.x)"
   ]
  },
  {
   "cell_type": "markdown",
   "id": "00f2ac19-10f8-4ace-a65e-9806741c2ecb",
   "metadata": {},
   "source": [
    "- **Self**: is used to represent the instance of the class. With this keyword, you can access the attributes and methods of the class in python. It binds the attributes with the given arguments. self is used in different places and often thought to be a keyword. But unlike in C++, self is not a keyword in Python.\n",
    "    - It does not have to be named self , you can call it whatever you like, but it has to be the first parameter of any function in the class.  \n",
    "    \n",
    "    \n",
    "- **__iniit__**: is a contructor method in Python and is automatically called to allocate memory when a new object/instance is created. All classes have a __init__ method associated with them. It helps in distinguishing methods and attributes of a class from local variables. The __init__() function is called automatically every time the class is being used to create a new object."
   ]
  },
  {
   "cell_type": "code",
   "execution_count": 18,
   "id": "d7661188-0498-42f2-8dfc-43028347010c",
   "metadata": {},
   "outputs": [
    {
     "name": "stdout",
     "output_type": "stream",
     "text": [
      "Object of Class: <__main__.Person object at 0x7f85e0371b50>\n",
      "<class '__main__.Person'>\n",
      "John\n",
      "36\n"
     ]
    }
   ],
   "source": [
    "class Person:\n",
    "    def __init__(self, name, age):\n",
    "        self.name = name\n",
    "        self.age = age\n",
    "\n",
    "p1 = Person(\"John\", 36)\n",
    "\n",
    "print(\"Object of Class:\",p1)\n",
    "print(type(p1))\n",
    "print(p1.name)\n",
    "print(p1.age)"
   ]
  },
  {
   "cell_type": "markdown",
   "id": "cfc826ec-740b-4b3a-b666-d38060eab12b",
   "metadata": {},
   "source": [
    "- **__str__()** function controls what should be returned when the class object is represented as a string. If the __str__() function is not set, the string representation of the object is returned."
   ]
  },
  {
   "cell_type": "code",
   "execution_count": 12,
   "id": "fbdc9a5d-124b-42c5-ab23-eceea97af838",
   "metadata": {},
   "outputs": [
    {
     "name": "stdout",
     "output_type": "stream",
     "text": [
      "John(36)\n",
      "<class '__main__.Person'>\n",
      "John\n",
      "36\n"
     ]
    }
   ],
   "source": [
    "class Person:\n",
    "    def __init__(self, name, age):\n",
    "        self.name = name\n",
    "        self.age = age\n",
    "\n",
    "    def __str__(self):\n",
    "        return f\"{self.name}({self.age})\"\n",
    "\n",
    "p1 = Person(\"John\", 36)\n",
    "\n",
    "print(p1)\n",
    "print(type(p1))\n",
    "print(p1.name)\n",
    "print(p1.age)"
   ]
  },
  {
   "cell_type": "markdown",
   "id": "40e45747-190a-4e01-b46c-77c20df61409",
   "metadata": {},
   "source": [
    "- **Object Methods**: Methods in objects are functions that belong to the object. Note: The self parameter is a reference to the current instance of the class, and is used to access variables that belong to the class."
   ]
  },
  {
   "cell_type": "code",
   "execution_count": 13,
   "id": "c40d5b13-b8a5-4b86-adad-06821e8743ff",
   "metadata": {},
   "outputs": [
    {
     "name": "stdout",
     "output_type": "stream",
     "text": [
      "Hello my name is John\n"
     ]
    }
   ],
   "source": [
    "class Person:\n",
    "    def __init__(self, name, age):\n",
    "        self.name = name\n",
    "        self.age = age\n",
    "\n",
    "    def myfunc(self):\n",
    "        print(\"Hello my name is \" + self.name)\n",
    "\n",
    "p1 = Person(\"John\", 36)\n",
    "p1.myfunc()"
   ]
  },
  {
   "cell_type": "markdown",
   "id": "3f152b9f-7593-421a-ac05-7e1e16b9eb8d",
   "metadata": {},
   "source": [
    "- **Modify Object Properties**: You can modify properties on objects like this"
   ]
  },
  {
   "cell_type": "code",
   "execution_count": 14,
   "id": "fa2c4aae-044b-4ea5-9822-2b1b79b9b0eb",
   "metadata": {},
   "outputs": [
    {
     "name": "stdout",
     "output_type": "stream",
     "text": [
      "36\n",
      "40\n"
     ]
    }
   ],
   "source": [
    "print(p1.age)\n",
    "p1.age = 40\n",
    "print(p1.age)"
   ]
  },
  {
   "cell_type": "markdown",
   "id": "cd5a9713-f817-4045-bfbc-c1c6eef380a2",
   "metadata": {},
   "source": [
    "- **Delete Object Properties**: Delete the age property from the p1 object:"
   ]
  },
  {
   "cell_type": "code",
   "execution_count": 20,
   "id": "e5457eb0-a333-4355-922e-82ac0c4a328a",
   "metadata": {},
   "outputs": [
    {
     "name": "stdout",
     "output_type": "stream",
     "text": [
      "36\n",
      "Person object has no attribute age\n"
     ]
    }
   ],
   "source": [
    "p1 = Person(\"John\", 36)\n",
    "print(p1.age)\n",
    "del p1.age\n",
    "try:\n",
    "    print(p1.age)\n",
    "except Exception:\n",
    "    print('Person object has no attribute age')"
   ]
  },
  {
   "cell_type": "markdown",
   "id": "fa9dc374-6206-448d-8cbe-bb645cfec135",
   "metadata": {},
   "source": [
    "- **Delete Objects**: You can delete objects by using the del keyword"
   ]
  },
  {
   "cell_type": "code",
   "execution_count": 24,
   "id": "87f6aac3-15de-4c3c-9bd9-7dd4493b180e",
   "metadata": {},
   "outputs": [
    {
     "name": "stdout",
     "output_type": "stream",
     "text": [
      "36\n",
      "No such an object\n"
     ]
    }
   ],
   "source": [
    "p1 = Person(\"John\", 36)\n",
    "print(p1.age)\n",
    "del p1\n",
    "try:\n",
    "    print(p1)\n",
    "except Exception:\n",
    "    print('No such an object')"
   ]
  },
  {
   "cell_type": "markdown",
   "id": "e0d7c962-ef13-4c6a-bf87-f27b2789336b",
   "metadata": {},
   "source": [
    "- Double underscore **del** function "
   ]
  },
  {
   "cell_type": "code",
   "execution_count": 32,
   "id": "464495ec-7c17-4bea-9d83-d5c09e07beb9",
   "metadata": {},
   "outputs": [
    {
     "name": "stdout",
     "output_type": "stream",
     "text": [
      "36\n",
      "Object is being deconstructed!\n"
     ]
    }
   ],
   "source": [
    "class Person:\n",
    "    def __init__(self, name, age):\n",
    "        self.name = name\n",
    "        self.age = age\n",
    "\n",
    "    def myfunc(self):\n",
    "        print(\"Hello my name is \" + self.name)\n",
    "        \n",
    "    def __del__(self):\n",
    "        print(\"Object is being deconstructed!\")\n",
    "\n",
    "p1 = Person(\"John\", 36)\n",
    "print(p1.age)\n",
    "del p1"
   ]
  },
  {
   "cell_type": "markdown",
   "id": "5b91359c-eb4a-46c5-b7dd-15544c8d3ef6",
   "metadata": {},
   "source": [
    "# Python Inheritance\n",
    "\n",
    "- **Parent class** is the class being inherited from, also called base class.\n",
    "- **Child class** is the class that inherits from another class, also called derived class."
   ]
  },
  {
   "cell_type": "code",
   "execution_count": 25,
   "id": "7b834070-8589-490f-96cd-64733f57cefb",
   "metadata": {},
   "outputs": [
    {
     "name": "stdout",
     "output_type": "stream",
     "text": [
      "John Doe\n",
      "Mike Olsen\n"
     ]
    }
   ],
   "source": [
    "class Person:\n",
    "    def __init__(self, fname, lname):\n",
    "        self.firstname = fname\n",
    "        self.lastname = lname\n",
    "\n",
    "    def printname(self):\n",
    "        print(self.firstname, self.lastname)\n",
    "\n",
    "x = Person(\"John\", \"Doe\")\n",
    "x.printname()\n",
    "\n",
    "class Student(Person):\n",
    "    pass\n",
    "\n",
    "x = Student(\"Mike\", \"Olsen\")\n",
    "x.printname()"
   ]
  },
  {
   "cell_type": "markdown",
   "id": "88bbe00b-26f1-4d64-882e-c1f9e56b23e8",
   "metadata": {},
   "source": [
    "- **init** function: The child's __init__() function overrides the inheritance of the parent's __init__() function."
   ]
  },
  {
   "cell_type": "code",
   "execution_count": 27,
   "id": "a61dc6bd-081c-4772-9506-2e55919dadf0",
   "metadata": {},
   "outputs": [
    {
     "name": "stdout",
     "output_type": "stream",
     "text": [
      "Mike Olsen\n",
      "Mike Olsen 15\n"
     ]
    }
   ],
   "source": [
    "class Student(Person):\n",
    "    def __init__(self, fname, lname, sage):\n",
    "        Person.__init__(self, fname, lname)\n",
    "        self.studentage = sage\n",
    "        \n",
    "    def printnameage(self):\n",
    "        print(self.firstname, self.lastname, self.studentage)\n",
    "        \n",
    "x = Student(\"Mike\", \"Olsen\",15)\n",
    "x.printname()\n",
    "x.printnameage()"
   ]
  },
  {
   "cell_type": "markdown",
   "id": "b0f38415-f525-4158-b72a-f99a9f0b47d9",
   "metadata": {},
   "source": [
    "- Python also has a **super()** function that will make the child class inherit all the methods and properties from its parent. \n",
    "- By using the super() function, **you do not have to use the name** of the parent element, it will automatically inherit the methods and properties from its parent.\n",
    "\n"
   ]
  },
  {
   "cell_type": "code",
   "execution_count": 28,
   "id": "860442c7-0db1-4214-b739-57a79ecc1bf2",
   "metadata": {},
   "outputs": [
    {
     "name": "stdout",
     "output_type": "stream",
     "text": [
      "Mike Olsen\n",
      "Mike Olsen 15\n"
     ]
    }
   ],
   "source": [
    "class Student(Person):\n",
    "    def __init__(self, fname, lname, sage):\n",
    "        super().__init__(fname, lname) # <----- different syntax all the other is the same\n",
    "        self.studentage = sage\n",
    "\n",
    "    def printnameage(self):\n",
    "        print(self.firstname, self.lastname, self.studentage)\n",
    "\n",
    "x = Student(\"Mike\", \"Olsen\",15)\n",
    "x.printname()\n",
    "x.printnameage()"
   ]
  },
  {
   "cell_type": "markdown",
   "id": "c2e456ff-1a50-4766-9194-1d6193768d06",
   "metadata": {},
   "source": [
    "- **super()** to methods:"
   ]
  },
  {
   "cell_type": "code",
   "execution_count": 30,
   "id": "dbf34b47-9e46-4390-8714-0d41f032cc64",
   "metadata": {},
   "outputs": [
    {
     "name": "stdout",
     "output_type": "stream",
     "text": [
      "Mike Olsen\n",
      "Mike Olsen 15\n"
     ]
    }
   ],
   "source": [
    "class Student(Person):\n",
    "    def __init__(self, fname, lname, sage):\n",
    "        super().__init__(fname, lname) # <----- different syntax all the other is the same\n",
    "        self.studentage = sage\n",
    "    \n",
    "    def printnameage(self):\n",
    "        super().printname()\n",
    "        print(self.firstname, self.lastname, self.studentage)\n",
    "        \n",
    "x = Student(\"Mike\", \"Olsen\",15)\n",
    "x.printnameage()"
   ]
  },
  {
   "cell_type": "code",
   "execution_count": null,
   "id": "f2c576c2-a794-431b-9e67-423587424df6",
   "metadata": {},
   "outputs": [],
   "source": []
  },
  {
   "cell_type": "code",
   "execution_count": null,
   "id": "ad15914a-9ef1-486f-88de-de28febc4d57",
   "metadata": {},
   "outputs": [],
   "source": []
  },
  {
   "cell_type": "markdown",
   "id": "ab78421f-4ab8-43db-886a-acb4f5e7ed1c",
   "metadata": {},
   "source": [
    "# Advanced Python Classes"
   ]
  },
  {
   "cell_type": "markdown",
   "id": "58fdd45e-bd8b-4581-a7af-a4b9ca2c191d",
   "metadata": {},
   "source": [
    "- **add** method or similar calculations or Double underscore methods"
   ]
  },
  {
   "cell_type": "code",
   "execution_count": 53,
   "id": "04cb1a24-d8a0-4607-8538-01113d2164c1",
   "metadata": {},
   "outputs": [
    {
     "name": "stdout",
     "output_type": "stream",
     "text": [
      "X: 60, Y:80\n",
      "Hello I was called\n"
     ]
    }
   ],
   "source": [
    "class Vector:\n",
    "    def __init__(self, x, y):\n",
    "        self.x = x\n",
    "        self.y = y\n",
    "        \n",
    "    def __add__(self, other):\n",
    "        return Vector(self.x + other.x, self.y + other.y)\n",
    "    \n",
    "    def __repr__ (self):\n",
    "        return f\"X: {self.x}, Y:{self.y}\"\n",
    "    \n",
    "    def __call__(self):\n",
    "        print(\"Hello I was called\")\n",
    "\n",
    "v1 = Vector (10, 20)\n",
    "v2 = Vector (50, 60)\n",
    "v3 = v1 + v2\n",
    "print(v3)\n",
    "v3()"
   ]
  },
  {
   "cell_type": "markdown",
   "id": "85a07c14-9f44-4934-af99-4719738522ec",
   "metadata": {},
   "source": [
    "- **Private values**: each value has double underscore is private and can't be accessed from the object directly"
   ]
  },
  {
   "cell_type": "code",
   "execution_count": 86,
   "id": "dfac2771-57f2-415c-b3f0-40f159a93bed",
   "metadata": {},
   "outputs": [
    {
     "name": "stdout",
     "output_type": "stream",
     "text": [
      "20\n",
      "can't access\n",
      "10\n"
     ]
    }
   ],
   "source": [
    "class Vector:\n",
    "    def __init__(self, X, Y):\n",
    "        self.__x = X\n",
    "        self.y = Y\n",
    "        \n",
    "    def print_private_values(self):\n",
    "        print(self.__x)\n",
    "        \n",
    "v1 = Vector (10, 20)\n",
    "print(v1.y)\n",
    "try:\n",
    "    print(v1.x)\n",
    "except Exception:\n",
    "    print(\"can't access\")\n",
    "v1.print_private_values()"
   ]
  },
  {
   "cell_type": "code",
   "execution_count": 88,
   "id": "41f7d53e-94fe-42a7-8d55-79bff31862c1",
   "metadata": {},
   "outputs": [
    {
     "name": "stdout",
     "output_type": "stream",
     "text": [
      "20\n",
      "can't access\n"
     ]
    },
    {
     "data": {
      "text/plain": [
       "10"
      ]
     },
     "execution_count": 88,
     "metadata": {},
     "output_type": "execute_result"
    }
   ],
   "source": [
    "class Vector:\n",
    "    def __init__(self, X, Y):\n",
    "        self.__x = X\n",
    "        self.y = Y\n",
    "     \n",
    "    @property #<----- with property\n",
    "    def print_private_values(self):\n",
    "        return self.__x\n",
    "        \n",
    "v1 = Vector (10, 20)\n",
    "print(v1.y)\n",
    "try:\n",
    "    print(v1.x)\n",
    "except Exception:\n",
    "    print(\"can't access\")\n",
    "v1.print_private_values #<----- without parenthesis "
   ]
  },
  {
   "cell_type": "code",
   "execution_count": 95,
   "id": "3a7e21ef-87dc-4ae7-b34d-320c653f6fcf",
   "metadata": {},
   "outputs": [
    {
     "name": "stdout",
     "output_type": "stream",
     "text": [
      "0\n",
      "5\n"
     ]
    }
   ],
   "source": [
    "class Vector:\n",
    "    def __init__(self, Y):\n",
    "        self.__x = 0 #<--- access only through method\n",
    "        self.y = Y\n",
    "     \n",
    "    @property \n",
    "    def print_private_values(self):\n",
    "        return self.__x\n",
    "    \n",
    "    @print_private_values.setter #<------- with the setter we can control stuff so not to have direct access to the variable \n",
    "    def print_private_values(self, value):\n",
    "        self.__x = value\n",
    "\n",
    "v1 = Vector(10)\n",
    "print(v1.print_private_values)\n",
    "v1.print_private_values =5\n",
    "print(v1.print_private_values) "
   ]
  },
  {
   "cell_type": "markdown",
   "id": "afa2f046-907e-426c-82d7-c1ec974f39eb",
   "metadata": {},
   "source": [
    "- **Static**"
   ]
  },
  {
   "cell_type": "code",
   "execution_count": 101,
   "id": "f3ffa66b-cb24-4020-93bf-8ba685026cd6",
   "metadata": {},
   "outputs": [
    {
     "name": "stdout",
     "output_type": "stream",
     "text": [
      "straight from the class\n"
     ]
    }
   ],
   "source": [
    "class Vector:\n",
    "    def __init__(self, X, Y):\n",
    "        self.__x = X\n",
    "        self.y = Y\n",
    "     \n",
    "    @staticmethod\n",
    "    def print_values():\n",
    "        print(\"straight from the class\")\n",
    "        \n",
    "Vector.print_values()"
   ]
  },
  {
   "cell_type": "markdown",
   "id": "9ece02cc-5e90-45b4-b809-e47bb7feb29d",
   "metadata": {},
   "source": [
    "# Using the help() Function for Docstrings\n"
   ]
  },
  {
   "cell_type": "code",
   "execution_count": 103,
   "id": "47cce92f-874d-4e88-956e-6c991e33c167",
   "metadata": {},
   "outputs": [
    {
     "name": "stdout",
     "output_type": "stream",
     "text": [
      "Help on class Vector in module __main__:\n",
      "\n",
      "class Vector(builtins.object)\n",
      " |  Vector(X, Y)\n",
      " |  \n",
      " |  Methods defined here:\n",
      " |  \n",
      " |  __init__(self, X, Y)\n",
      " |      Initialize self.  See help(type(self)) for accurate signature.\n",
      " |  \n",
      " |  ----------------------------------------------------------------------\n",
      " |  Data descriptors defined here:\n",
      " |  \n",
      " |  __dict__\n",
      " |      dictionary for instance variables (if defined)\n",
      " |  \n",
      " |  __weakref__\n",
      " |      list of weak references to the object (if defined)\n",
      "\n"
     ]
    }
   ],
   "source": [
    "class Vector:\n",
    "    def __init__(self, X, Y):\n",
    "        self.__x = X\n",
    "        self.y = Y\n",
    "        \n",
    "help(Vector)"
   ]
  },
  {
   "cell_type": "markdown",
   "id": "9c7cddec-b986-41ba-9b85-0c0aea9011de",
   "metadata": {},
   "source": [
    "# Copy an object\n",
    "- In Python, the assignment statement (= operator) does not copy objects. Instead, it creates a binding between the existing object and the target variable name. To create copies of an object in Python, we need to use the copy module. Moreover, there are two ways of creating copies for the given object using the copy module -\n",
    "    - Shallow Copy is a bit-wise copy of an object. The copied object created has an exact copy of the values in the original object. If either of the values is a reference to other objects, just the reference addresses for the same are copied.\n",
    "    - Deep Copy copies all values recursively from source to target object, i.e. it even duplicates the objects referenced by the source object."
   ]
  },
  {
   "cell_type": "code",
   "execution_count": null,
   "id": "eb5615a7-b748-4d1c-bbc3-5bb2c9f3a417",
   "metadata": {},
   "outputs": [],
   "source": []
  },
  {
   "cell_type": "markdown",
   "id": "124200bd-5348-439d-96ae-1a6e83e143ec",
   "metadata": {},
   "source": [
    "# References\n",
    "- https://realpython.com/python-super/\n",
    "- https://www.w3schools.com/python/python_classes.asp\n",
    "- https://www.interviewbit.com/python-interview-questions/#use-of-self-in-python\n"
   ]
  }
 ],
 "metadata": {
  "kernelspec": {
   "display_name": "Python 3 (ipykernel)",
   "language": "python",
   "name": "python3"
  },
  "language_info": {
   "codemirror_mode": {
    "name": "ipython",
    "version": 3
   },
   "file_extension": ".py",
   "mimetype": "text/x-python",
   "name": "python",
   "nbconvert_exporter": "python",
   "pygments_lexer": "ipython3",
   "version": "3.9.12"
  }
 },
 "nbformat": 4,
 "nbformat_minor": 5
}
