{
 "cells": [
  {
   "cell_type": "code",
   "execution_count": null,
   "id": "e35e2bed-3f98-4171-b1d7-5badeb937c34",
   "metadata": {},
   "outputs": [],
   "source": []
  },
  {
   "cell_type": "markdown",
   "id": "138ba4b1-5195-4325-8a69-770939eee47a",
   "metadata": {},
   "source": [
    "# how to delete a file in Python\n",
    "\n",
    "`import os`  \n",
    "`os.remove(\"ChangedFile.csv\")`  \n",
    "`print(\"File Removed!\")`  "
   ]
  },
  {
   "cell_type": "code",
   "execution_count": null,
   "id": "a9b99557-4e1e-4ad0-8902-48b80cb442ff",
   "metadata": {},
   "outputs": [],
   "source": []
  },
  {
   "cell_type": "markdown",
   "id": "6f9333ec-150b-49e1-9edb-9b2670d96279",
   "metadata": {},
   "source": [
    "# Pandas\n",
    "- Pandas is an open-source, python-based library used in data manipulation applications requiring high performance. \n",
    "- Pandas are useful in performing 5 major steps of data analysis - Load the data, clean/manipulate it, prepare it, model it, and analyze the data.\n"
   ]
  },
  {
   "cell_type": "markdown",
   "id": "2aa80398-d71d-4b48-9b0b-ba84f0aaa741",
   "metadata": {},
   "source": [
    "`import pandas as pd`  \n",
    "`dataframe = pd.DataFrame( data, index, columns, dtype)`"
   ]
  },
  {
   "cell_type": "code",
   "execution_count": null,
   "id": "1824e177-c8f9-4196-9fd4-8f6eb76effb7",
   "metadata": {},
   "outputs": [],
   "source": []
  },
  {
   "cell_type": "markdown",
   "id": "417953b9-7cf5-481e-914f-53a786e0adbc",
   "metadata": {},
   "source": [
    "# Reference\n",
    "- https://www.interviewbit.com/python-interview-questions/#use-of-self-in-python"
   ]
  },
  {
   "cell_type": "code",
   "execution_count": null,
   "id": "2b65c36c-41ae-43a9-ab16-351d62a1ecc3",
   "metadata": {},
   "outputs": [],
   "source": []
  },
  {
   "cell_type": "code",
   "execution_count": null,
   "id": "891d1fc1-3f12-436b-8830-6955b7b140da",
   "metadata": {},
   "outputs": [],
   "source": [
    "\n",
    "[3,2,4]\n",
    "6\n",
    "[3,3]\n",
    "6"
   ]
  },
  {
   "cell_type": "code",
   "execution_count": 4,
   "id": "399ac9c6-3080-42d6-93f0-2da060a48c49",
   "metadata": {},
   "outputs": [
    {
     "name": "stdout",
     "output_type": "stream",
     "text": [
      "[1, 2]\n"
     ]
    }
   ],
   "source": [
    "nums = [2,7,11,15]\n",
    "target = 9\n",
    "\n",
    "nums = [3,2,4]\n",
    "target = 6\n",
    "\n",
    "\n",
    "\n",
    "\n",
    "for i in range(0,len(nums)):\n",
    "    for j in range(i+1,len(nums)):\n",
    "        if (nums[i]+nums[j]==target):\n",
    "            print([i,j])\n",
    "            \n",
    "dict={}\n",
    "for index, ele in enumerate(nums):\n",
    "    if target- ele in dict:\n",
    "        return dict[target- ele], index\n",
    "    dict[ele]= index"
   ]
  },
  {
   "cell_type": "code",
   "execution_count": null,
   "id": "fc476c52-b68e-47ac-bef0-c35318778add",
   "metadata": {},
   "outputs": [],
   "source": [
    "\n",
    "\n",
    "l1 = [9,9,9,9,9,9,9]\n",
    "l2 = [9,9,9,9]"
   ]
  },
  {
   "cell_type": "code",
   "execution_count": 43,
   "id": "31b86b02-733f-410d-84b1-d8d9ebdee1ae",
   "metadata": {},
   "outputs": [
    {
     "name": "stdout",
     "output_type": "stream",
     "text": [
      "[0, 0, 0]\n"
     ]
    }
   ],
   "source": [
    "listofzeros = \n",
    "print(listofzeros)"
   ]
  },
  {
   "cell_type": "code",
   "execution_count": 63,
   "id": "31c2f8de-e08f-4e63-8973-097f3b5cf9e8",
   "metadata": {},
   "outputs": [
    {
     "name": "stdout",
     "output_type": "stream",
     "text": [
      "[8, 9, 9, 9, 0, 0, 0, 1]\n",
      "[9, 9, 9, 0, 0, 0, 1]\n"
     ]
    }
   ],
   "source": [
    "#l1 = [2,4,3]\n",
    "#l2 = [5,6,4]\n",
    "\n",
    "l1 = [9,9,9,9,9,9,9]\n",
    "l2 = [9,9,9,9]\n",
    "\n",
    "l1.reverse()\n",
    "l2.reverse()\n",
    "if len(l1)>len(l2):\n",
    "    zeros_extend = [0] * (len(l1)-len(l2))\n",
    "    l2.extend(zeros_extend)\n",
    "elif len(l2)>len(l1):\n",
    "    zeros_extend = [0] * (len(l2)-len(l1))\n",
    "    l1.extend(zeros_extend)\n",
    "else:\n",
    "    pass\n",
    "\n",
    "l3 = []\n",
    "remain = 0\n",
    "for i in range(0,len(l1)):\n",
    "    node_sum = l1[i]+l2[i]+remain\n",
    "    if(node_sum>=10):\n",
    "        remain = 1\n",
    "        l3.append(node_sum - 10)\n",
    "    else:\n",
    "        remain = 0\n",
    "        l3.append(node_sum)\n",
    "\n",
    "if remain == 1:\n",
    "    l3.append(1)\n",
    "print(l3)\n",
    "\n",
    "l3.pop(0)\n",
    "print(l3)"
   ]
  },
  {
   "cell_type": "code",
   "execution_count": 34,
   "id": "4b164aa9-5a74-439c-a86d-0c1d4091c17a",
   "metadata": {},
   "outputs": [
    {
     "name": "stdout",
     "output_type": "stream",
     "text": [
      "Reversed List: [7, 5, 3, 2]\n"
     ]
    }
   ],
   "source": [
    "# create a list of prime numbers\n",
    "prime_numbers = [2, 3, 5, 7]\n",
    "\n",
    "# reverse the order of list elements\n",
    "prime_numbers.reverse()\n",
    "\n",
    "\n",
    "print('Reversed List:', prime_numbers)\n",
    "\n",
    "# Output: Reversed List: [7, 5, 3, 2]"
   ]
  },
  {
   "cell_type": "code",
   "execution_count": 79,
   "id": "d198e5ed-6e22-4a23-9239-36e22d61bf26",
   "metadata": {},
   "outputs": [
    {
     "name": "stdout",
     "output_type": "stream",
     "text": [
      "True\n"
     ]
    }
   ],
   "source": [
    "txt = \"The best things in life are free!\"\n",
    "print(\"free\" in txt)"
   ]
  },
  {
   "cell_type": "code",
   "execution_count": 111,
   "id": "87ef1e42-0836-437f-9bfe-6e10798c532b",
   "metadata": {},
   "outputs": [
    {
     "name": "stdout",
     "output_type": "stream",
     "text": [
      "pw\n",
      "w\n",
      "wke\n",
      "kew\n",
      "ew\n",
      "w\n",
      "3\n"
     ]
    }
   ],
   "source": [
    "\n",
    "\n",
    "\n",
    "mystr=\"abcabcbb\"\n",
    "mystr=\"bbbbb\"\n",
    "mystr=\"pwwkew\"\n",
    "\n",
    "max_lenght = 0\n",
    "str_head = 0\n",
    "for str_head in range(0,len(mystr)):\n",
    "    mysubstr = \"\"\n",
    "    for str_tail in range(str_head,len(mystr)):\n",
    "        curr_char = mystr[str_tail]\n",
    "        if(curr_char in mysubstr):\n",
    "            break\n",
    "        else:\n",
    "            mysubstr +=curr_char\n",
    "    if(max_lenght<len(mysubstr)):\n",
    "        max_lenght = len(mysubstr)\n",
    "        \n",
    "    print(mysubstr)\n",
    "print(max_lenght)"
   ]
  },
  {
   "cell_type": "code",
   "execution_count": 131,
   "id": "796b2c8d-d913-49a4-86c0-f14dc075ce35",
   "metadata": {},
   "outputs": [
    {
     "name": "stdout",
     "output_type": "stream",
     "text": [
      "b\n",
      "b\n",
      "bt\n",
      "bta\n",
      "tab\n",
      "tabl\n",
      "tablu\n",
      "tablud\n",
      "6\n"
     ]
    }
   ],
   "source": [
    "mystr=\"abcabcbb\"\n",
    "mystr=\"bbbbb\"\n",
    "#mystr=\"pwwkew\"\n",
    "mystr=\"ckilbkd\"\n",
    "mystr=\"bbtablud\"\n",
    "\n",
    "max_lenght = 0\n",
    "str_tail = str_head = 0\n",
    "while str_tail<len(mystr):\n",
    "    if(mystr[str_tail] in mystr[str_head:str_tail]):\n",
    "        str_head = str_head + mystr[str_head:str_tail].index(mystr[str_tail]) +1\n",
    "        str_tail +=1\n",
    "        print(mystr[str_head:str_tail])\n",
    "    else:\n",
    "        str_tail +=1\n",
    "        if(max_lenght<len(mystr[str_head:str_tail])):\n",
    "            max_lenght = len(mystr[str_head:str_tail])\n",
    "        print(mystr[str_head:str_tail])\n",
    "\n",
    "print(max_lenght)"
   ]
  },
  {
   "cell_type": "code",
   "execution_count": null,
   "id": "fa7b8c0a-3c5d-4729-8004-09606e17f959",
   "metadata": {},
   "outputs": [],
   "source": [
    "max_lenght = 0\n",
    "str_tail = str_head = 0\n",
    "while str_tail<len(mystr):\n",
    "    if(mystr[str_tail] in mystr[str_head:str_tail]):\n",
    "        if(mystr[str_tail]!=mystr[str_tail-1]): \n",
    "            str_head +=1\n",
    "            str_tail +=1\n",
    "        else:\n",
    "            str_tail +=1\n",
    "            str_head = str_tail\n",
    "    else:\n",
    "        str_tail +=1\n",
    "        if(max_lenght<len(mystr[str_head:str_tail])):\n",
    "            max_lenght = len(mystr[str_head:str_tail])\n"
   ]
  },
  {
   "cell_type": "code",
   "execution_count": 124,
   "id": "dd65586e-2931-4722-9170-0d12b1ceeb43",
   "metadata": {},
   "outputs": [
    {
     "data": {
      "text/plain": [
       "1"
      ]
     },
     "execution_count": 124,
     "metadata": {},
     "output_type": "execute_result"
    }
   ],
   "source": [
    "sentence = 'ckilbkd'\n",
    "\n",
    "result = sentence.index('k')\n",
    "result"
   ]
  },
  {
   "cell_type": "code",
   "execution_count": 2,
   "id": "f17fac25-d3bb-473e-be29-238e31a8cb3b",
   "metadata": {},
   "outputs": [
    {
     "name": "stdout",
     "output_type": "stream",
     "text": [
      "[0]\n"
     ]
    }
   ],
   "source": [
    "res = [int(x) for x in str(0)]\n",
    "print(res)"
   ]
  },
  {
   "cell_type": "code",
   "execution_count": 36,
   "id": "b0885925-315f-4a2e-9873-bc7dcfd92bd1",
   "metadata": {},
   "outputs": [
    {
     "name": "stdout",
     "output_type": "stream",
     "text": [
      "MCMXC-\n",
      "MCMXC-\n",
      "MCMXC-\n",
      "MCM--\n",
      "MCM--\n",
      "M---\n",
      "M---\n",
      "M---\n",
      "M---\n",
      "M---\n",
      "M---\n",
      "M---\n",
      "----\n",
      "1994\n"
     ]
    }
   ],
   "source": [
    "RomanDict = {\n",
    "    \"IV\": 4,\n",
    "    \"IX\": 9,\n",
    "    \"XL\": 40,\n",
    "    \"XC\": 90,\n",
    "    \"CD\": 400,\n",
    "    \"CM\": 900,\n",
    "    \"I\": 1,\n",
    "    \"V\": 5,\n",
    "    \"X\": 10,\n",
    "    \"L\": 50,\n",
    "    \"C\": 100,\n",
    "    \"D\": 500,\n",
    "    \"M\": 1000    \n",
    "}\n",
    "\n",
    "#s = \"IVMCMXCIV\"\n",
    "s = \"MCMXCIV\"\n",
    "number = 0\n",
    "for roman_key, number_value in RomanDict.items():\n",
    "    times = s.count(roman_key)\n",
    "    number += times * number_value\n",
    "    s = s.replace(roman_key, \"-\")\n",
    "    print(s)\n",
    "print(number)"
   ]
  },
  {
   "cell_type": "code",
   "execution_count": 22,
   "id": "d5937bcc-0942-4d4e-91d1-e383815e5fd7",
   "metadata": {},
   "outputs": [
    {
     "name": "stdout",
     "output_type": "stream",
     "text": [
      "Number of occurrence of p: 2\n"
     ]
    }
   ],
   "source": [
    "s = \"IVMCMXCIV\"\n",
    "print('Number of occurrence of p:', s.count('IV'))"
   ]
  },
  {
   "cell_type": "code",
   "execution_count": 15,
   "id": "80594395-8207-4180-8b1a-ccf477d5aadf",
   "metadata": {},
   "outputs": [
    {
     "name": "stdout",
     "output_type": "stream",
     "text": [
      "4MCMXC4\n"
     ]
    }
   ],
   "source": [
    "s = \"IVMCMXCIV\"\n",
    "\n",
    "s = s.replace(\"IV\", \"4\")\n",
    "s = s.replace(\"IX\", \"9\")\n",
    "\n",
    "print(s)\n",
    "\n",
    "#print(message.find('fun'))\n",
    "#x = txt.replace(\"bananas\", \"apples\")\n",
    "s = \"MCMXCIV\""
   ]
  },
  {
   "cell_type": "code",
   "execution_count": 12,
   "id": "a1efdc5b-5610-4439-b37a-afbc578a27e5",
   "metadata": {},
   "outputs": [
    {
     "name": "stdout",
     "output_type": "stream",
     "text": [
      "MCMXC44\n"
     ]
    }
   ],
   "source": [
    "\n",
    "\n",
    "\n",
    "\n",
    "print(s)"
   ]
  },
  {
   "cell_type": "code",
   "execution_count": 46,
   "id": "fc6b989b-57dc-420a-93f1-3fa65f35ea5a",
   "metadata": {},
   "outputs": [
    {
     "name": "stdout",
     "output_type": "stream",
     "text": [
      "['M', 'C', 'M', 'X', 'C', 'I', 'V', 'I', 'V']\n"
     ]
    },
    {
     "ename": "ValueError",
     "evalue": "invalid literal for int() with base 10: 'M'",
     "output_type": "error",
     "traceback": [
      "\u001b[0;31m---------------------------------------------------------------------------\u001b[0m",
      "\u001b[0;31mValueError\u001b[0m                                Traceback (most recent call last)",
      "Input \u001b[0;32mIn [46]\u001b[0m, in \u001b[0;36m<cell line: 5>\u001b[0;34m()\u001b[0m\n\u001b[1;32m      3\u001b[0m \u001b[38;5;28mprint\u001b[39m(s_list)\n\u001b[1;32m      4\u001b[0m s_list[\u001b[38;5;241m0\u001b[39m]\n\u001b[0;32m----> 5\u001b[0m \u001b[38;5;28mprint\u001b[39m(\u001b[38;5;28;43mint\u001b[39;49m\u001b[43m(\u001b[49m\u001b[43ms_list\u001b[49m\u001b[43m[\u001b[49m\u001b[38;5;241;43m0\u001b[39;49m\u001b[43m]\u001b[49m\u001b[43m)\u001b[49m)\n",
      "\u001b[0;31mValueError\u001b[0m: invalid literal for int() with base 10: 'M'"
     ]
    }
   ],
   "source": [
    "s = \"MCMXCIVIV\"\n",
    "s_list = [char for char in s]\n",
    "print(s_list)\n",
    "s_list[0]\n",
    "try:\n",
    "    int(s_list[0])\n",
    "except Error: \n",
    "print()\n",
    "#for item in s_list:\n",
    "    \n",
    "\n"
   ]
  },
  {
   "cell_type": "code",
   "execution_count": null,
   "id": "f2d63360-2af2-4f36-8bf1-8ad4ec30916d",
   "metadata": {},
   "outputs": [],
   "source": [
    "li = list(string.split(\" \"))"
   ]
  },
  {
   "cell_type": "code",
   "execution_count": null,
   "id": "30ae775b-589b-4817-9f22-c96b98cc99f0",
   "metadata": {},
   "outputs": [],
   "source": [
    "Dict_Decoder= {\n",
    "    \"IV\": 4,\n",
    "    \"IX\": 9,\n",
    "    \"XL\": 40,\n",
    "    \"XC\": 90,\n",
    "    \"CD\": 400,\n",
    "    \"CM\": 900,\n",
    "    \"I\": 1,\n",
    "    \"V\": 5,\n",
    "    \"X\": 10,\n",
    "    \"L\": 50,\n",
    "    \"C\": 100,\n",
    "    \"D\": 500,\n",
    "    \"M\": \n",
    "}"
   ]
  },
  {
   "cell_type": "code",
   "execution_count": null,
   "id": "cc6cf82a-96fc-456c-839c-12be334b53a2",
   "metadata": {},
   "outputs": [],
   "source": [
    "alphabet_lowcase = [\n",
    "    \"a\": \"z\", \n",
    "    \"b\": \"y\", \n",
    "    \"c\": \"x\", \n",
    "    \"d\": \"w\", \n",
    "    \"e\": \"v\", \n",
    "    \"f\": \"u\", \n",
    "    \"g\": \"t\", \n",
    "    \"h\": \"s\", \n",
    "    \"i\": , \n",
    "    \"j\": , \n",
    "    \"k\": , \n",
    "    \"l\": , \n",
    "    \"m\": , \n",
    "    \"n\": , \n",
    "    \"o\": , \n",
    "    \"p\": , \n",
    "    \"q\": , \n",
    "    \"r\": , \n",
    "    \"s\": , \n",
    "    \"t\": \"g\", \n",
    "    \"u\": \"f\", \n",
    "    \"v\": \"e\", \n",
    "    \"w\": \"d\", \n",
    "    \"x\": \"c\", \n",
    "    \"y\": \"b\", \n",
    "    \"z\": \"a\"]"
   ]
  },
  {
   "cell_type": "code",
   "execution_count": 72,
   "id": "31991089-2dd7-486e-9c9e-d28f21fe86c6",
   "metadata": {},
   "outputs": [
    {
     "name": "stdout",
     "output_type": "stream",
     "text": [
      "{'a': '<0>', 'b': '<1>', 'c': '<2>', 'd': '<3>', 'e': '<4>', 'f': '<5>', 'g': '<6>', 'h': '<7>', 'i': '<8>', 'j': '<9>', 'k': '<10>', 'l': '<11>', 'm': '<12>', 'n': '<13>', 'o': '<14>', 'p': '<15>', 'q': '<16>', 'r': '<17>', 's': '<18>', 't': '<19>', 'u': '<20>', 'v': '<21>', 'w': '<22>', 'x': '<23>', 'y': '<24>', 'z': '<25>'}\n",
      "{'<0>': 'z', '<1>': 'y', '<2>': 'x', '<3>': 'w', '<4>': 'v', '<5>': 'u', '<6>': 't', '<7>': 's', '<8>': 'r', '<9>': 'q', '<10>': 'p', '<11>': 'o', '<12>': 'n', '<13>': 'm', '<14>': 'l', '<15>': 'k', '<16>': 'j', '<17>': 'i', '<18>': 'h', '<19>': 'g', '<20>': 'f', '<21>': 'e', '<22>': 'd', '<23>': 'c', '<24>': 'b', '<25>': 'a'}\n",
      "wrw blf hvv ozhg mrtsg'h vkrhlwv?\n",
      "<22><17><22> <1><11><5> <7><21><21> <14><25><7><6> <12><17><19><18><6>'<7> <21><10><17><7><11><22><21>?\n",
      "did you see last night's episode?\n"
     ]
    }
   ],
   "source": [
    "import string\n",
    "\n",
    "Alphabet_Dict_Encoder = {}\n",
    "Alphabet_Dict_Decoder = {}\n",
    "alphabet = list(string.ascii_lowercase)\n",
    "for i in range(0,len(alphabet)):\n",
    "    Alphabet_Dict_Encoder[alphabet[i]] = \"<\"+ str(i)+\">\" \n",
    "    Alphabet_Dict_Decoder[\"<\"+ str(i)+\">\"] = alphabet[len(alphabet)-1-i]\n",
    "\n",
    "print(Alphabet_Dict_Encoder)\n",
    "print(Alphabet_Dict_Decoder)\n",
    "\n",
    "s = \"wrw blf hvv ozhg mrtsg'h vkrhlwv?\"\n",
    "print(s)\n",
    "for key, value in Alphabet_Dict_Encoder.items():\n",
    "    s = s.replace(key, value)\n",
    "print(s)\n",
    "\n",
    "for key, value in Alphabet_Dict_Decoder.items():\n",
    "    s = s.replace(key, value)\n",
    "print(s)    \n",
    "    "
   ]
  },
  {
   "cell_type": "code",
   "execution_count": null,
   "id": "5a6a4b19-2aba-4011-a72d-f9537f534f19",
   "metadata": {},
   "outputs": [],
   "source": []
  },
  {
   "cell_type": "code",
   "execution_count": null,
   "id": "ff19086e-82c7-486c-9c56-2926c53ef090",
   "metadata": {},
   "outputs": [],
   "source": [
    "\n"
   ]
  },
  {
   "cell_type": "code",
   "execution_count": 74,
   "id": "c56ee038-1386-4fa1-a78c-7845e5ad2af4",
   "metadata": {},
   "outputs": [
    {
     "data": {
      "text/plain": [
       "\"did you see last night's episode?\""
      ]
     },
     "execution_count": 74,
     "metadata": {},
     "output_type": "execute_result"
    }
   ],
   "source": [
    "def solution(x):\n",
    "    # Your code here\n",
    "    Alphabet_Dict_Encoder = {}\n",
    "    Alphabet_Dict_Decoder = {}\n",
    "    alphabet = list(string.ascii_lowercase)\n",
    "    for i in range(0,len(alphabet)):\n",
    "        Alphabet_Dict_Encoder[alphabet[i]] = \"<\"+ str(i)+\">\" \n",
    "        Alphabet_Dict_Decoder[\"<\"+ str(i)+\">\"] = alphabet[len(alphabet)-1-i]\n",
    "\n",
    "    for key, value in Alphabet_Dict_Encoder.items():\n",
    "        x = x.replace(key, value)\n",
    "\n",
    "    for key, value in Alphabet_Dict_Decoder.items():\n",
    "        x = x.replace(key, value)\n",
    "    return(x) \n",
    "\n",
    "solution(\"wrw blf hvv ozhg mrtsg'h vkrhlwv?\")"
   ]
  }
 ],
 "metadata": {
  "kernelspec": {
   "display_name": "Python 3 (ipykernel)",
   "language": "python",
   "name": "python3"
  },
  "language_info": {
   "codemirror_mode": {
    "name": "ipython",
    "version": 3
   },
   "file_extension": ".py",
   "mimetype": "text/x-python",
   "name": "python",
   "nbconvert_exporter": "python",
   "pygments_lexer": "ipython3",
   "version": "3.9.12"
  }
 },
 "nbformat": 4,
 "nbformat_minor": 5
}
