{
 "cells": [
  {
   "cell_type": "markdown",
   "id": "4eb929d0-7d0a-4a98-9f21-1abb507fec30",
   "metadata": {},
   "source": [
    "# (API) Application Programmeable Interface"
   ]
  },
  {
   "cell_type": "markdown",
   "id": "a0401782-8efb-4f1d-8d93-e44526492c88",
   "metadata": {},
   "source": [
    "### Installation\n",
    "1. `pip install fastapi`\n",
    "2. `pip install uvicorn`\n",
    "3. `pip install nest-asyncio`\n",
    "- Jupyter already running an event loop, and once Uvicorn calls asyncio.run() internally, we receive an error. If you wouldd like to run uvicorn from an already running async environment, use uvicorn.Server.serve().\n",
    "\n"
   ]
  },
  {
   "cell_type": "code",
   "execution_count": null,
   "id": "9efd8f14-0338-4d28-b559-c01dc5d1b42f",
   "metadata": {},
   "outputs": [],
   "source": []
  },
  {
   "cell_type": "code",
   "execution_count": 1,
   "id": "42b6d374-9e5e-41ac-b741-7ff2f305693a",
   "metadata": {},
   "outputs": [],
   "source": [
    "import fastapi\n",
    "from fastapi import FastAPI\n",
    "import nest_asyncio\n",
    "import uvicorn\n",
    "\n",
    "app = FastAPI() # we create a first API object"
   ]
  },
  {
   "cell_type": "code",
   "execution_count": 2,
   "id": "0b46ac27-a11e-40c0-a576-9dfc88111dbd",
   "metadata": {},
   "outputs": [],
   "source": [
    "@app.get(\"/\")\n",
    "def home():\n",
    "    return({\"Data\": \"Test 2\"})\n",
    "\n",
    "@app.get(\"/about\")\n",
    "def about():\n",
    "    return({\"Data\": \"About 2\"})"
   ]
  },
  {
   "cell_type": "code",
   "execution_count": 16,
   "id": "b354128b-1566-464f-8205-8630028c5b97",
   "metadata": {},
   "outputs": [
    {
     "name": "stderr",
     "output_type": "stream",
     "text": [
      "INFO:     Started server process [61794]\n",
      "INFO:     Waiting for application startup.\n",
      "INFO:     Application startup complete.\n",
      "INFO:     Uvicorn running on http://127.0.0.1:8000 (Press CTRL+C to quit)\n"
     ]
    },
    {
     "name": "stdout",
     "output_type": "stream",
     "text": [
      "INFO:     127.0.0.1:56485 - \"GET /get-by-name?name=MilK HTTP/1.1\" 200 OK\n"
     ]
    },
    {
     "name": "stderr",
     "output_type": "stream",
     "text": [
      "INFO:     Shutting down\n",
      "INFO:     Waiting for application shutdown.\n",
      "INFO:     Application shutdown complete.\n",
      "INFO:     Finished server process [61794]\n"
     ]
    }
   ],
   "source": [
    "if __name__ == \"__main__\":\n",
    "    nest_asyncio.apply()\n",
    "    uvicorn.run(app, port=8000)"
   ]
  },
  {
   "cell_type": "markdown",
   "id": "c7d48072-5cfd-4d7d-8081-6d2f616a6885",
   "metadata": {},
   "source": [
    "- Basic documentaion: http://127.0.0.1:8000/docs"
   ]
  },
  {
   "cell_type": "code",
   "execution_count": 12,
   "id": "fbe002dc-deb7-4c03-950b-1f283873474e",
   "metadata": {},
   "outputs": [],
   "source": [
    "inventory = {\n",
    "    1: {\n",
    "        \"name\": \"MilK\",\n",
    "        \"price\": 3.99,\n",
    "        \"brand\": \"Regular\"\n",
    "        },\n",
    "    2: {\n",
    "        \"name\": \"Apples\",\n",
    "        \"price\": 2.99,\n",
    "        \"brand\": \"Regular\"\n",
    "        }\n",
    "    }\n",
    "@app.get(\"/get-item/{item_id}\")\n",
    "def get_item(item_id: int):\n",
    "    return inventory[item_id]"
   ]
  },
  {
   "cell_type": "markdown",
   "id": "a4e896d6-6b0a-468e-aea2-beb39a4f7e6a",
   "metadata": {},
   "source": [
    "- http://127.0.0.1:8000/get-item/1"
   ]
  },
  {
   "cell_type": "code",
   "execution_count": 15,
   "id": "418b5399-b349-4c89-bf61-4ee0296e7b96",
   "metadata": {},
   "outputs": [],
   "source": [
    "@app.get(\"/get-by-name\")\n",
    "def get_item(name: str):\n",
    "    for item_id in inventory:\n",
    "        if inventory[item_id][\"name\"] == name:\n",
    "            return inventory [item_id]\n",
    "    return {\"Data\": \"Not found\" }"
   ]
  },
  {
   "cell_type": "markdown",
   "id": "4b124146-d26f-456f-8a2d-eb2ab8313246",
   "metadata": {},
   "source": [
    "- http://127.0.0.1:8000/get-by-name?name=MilK"
   ]
  },
  {
   "cell_type": "code",
   "execution_count": null,
   "id": "b8424a31-4489-4858-9f08-35aca729a084",
   "metadata": {},
   "outputs": [],
   "source": []
  },
  {
   "cell_type": "code",
   "execution_count": null,
   "id": "c60d9278-7570-428b-b36d-d23c432ecd25",
   "metadata": {},
   "outputs": [],
   "source": [
    "class Item (BaseModel):\n",
    "    name: str\n",
    "    price: float\n",
    "    brand: Optional[str] = None\n",
    "    \n",
    "class UpdateItem (BaseModel) :\n",
    "    name: Optional[str] = None\n",
    "    price: Optional[float] = None\n",
    "    brand: Optional[strl] = None"
   ]
  },
  {
   "cell_type": "code",
   "execution_count": null,
   "id": "ff818a82-e75f-4088-aa5f-74900d8a8478",
   "metadata": {},
   "outputs": [],
   "source": [
    "@app.post(\"/create-item/{item_id}\")\n",
    "def create item(item_id: int, item: Item) :\n",
    "    if item_id in inventory:\n",
    "        return {\"Error\": \"Item ID already exists.\"}\n",
    "    \n",
    "    inventory[item_id] = {\"name\": item.name, \"brand\": item.brand, \"price\": item.price}\n",
    "    return inventory[item_id]"
   ]
  },
  {
   "cell_type": "code",
   "execution_count": null,
   "id": "aee008de-ccdc-4e33-ad4a-f3a8f60389b4",
   "metadata": {},
   "outputs": [],
   "source": [
    "@app.put (\"/update-item/{item_id}\")\n",
    "def update item(item_id: int, item: UpdateItem):\n",
    "    if item_id not in inventory:\n",
    "        return {\"Error\": \"Item ID does not exists.\"}\n",
    "    if item.name != None:\n",
    "        inventory[item_id].name = item.name\n",
    "    if item.price != None:\n",
    "        inventory[item_id].price = item.price\n",
    "    if item.brand != None:\n",
    "        inventory[item_id].brand = item.brand\n",
    "    return inventory[item_id]"
   ]
  },
  {
   "cell_type": "code",
   "execution_count": null,
   "id": "adefa182-f93b-41fe-8781-b360db790463",
   "metadata": {},
   "outputs": [],
   "source": [
    "@app.delete(\"/delete-item\")\n",
    "    def delete_item(item_id: int = Query(..., description=\"The ID of the item to delete\")\n",
    "        if item_id not in inventory:\n",
    "            return {\"Error\": \"ID does not exist.\"}\n",
    "    del inventory[item_id]\n",
    "    return {\"Success\":\"Deleted!\"}"
   ]
  },
  {
   "cell_type": "code",
   "execution_count": null,
   "id": "856f622f-b522-4059-978f-54a9c8e8b909",
   "metadata": {},
   "outputs": [],
   "source": []
  },
  {
   "cell_type": "code",
   "execution_count": null,
   "id": "5defd16e-9512-4fdb-a94f-3ee93a66bb7b",
   "metadata": {},
   "outputs": [],
   "source": [
    "# MongoDB and API"
   ]
  },
  {
   "cell_type": "code",
   "execution_count": null,
   "id": "d0b25b07-3853-4a14-94ec-a7ed4f15ed0c",
   "metadata": {},
   "outputs": [],
   "source": []
  },
  {
   "cell_type": "markdown",
   "id": "e6394b83-56e4-4e2e-8789-c2dd7d8a8e0a",
   "metadata": {},
   "source": [
    "# Reference\n",
    "- Python FAST API: https://www.youtube.com/watch?v=-ykeT6kk4bk\n",
    "- Fast API: https://fastapi.tiangolo.com/\n",
    "- Asynchronous Programming: https://www.youtube.com/watch?v=t5Bo1Je9EmE\n",
    "\n",
    "- Docker Fast API: https://www.youtube.com/watch?v=bi0cKgmRuiA \n",
    "\n",
    "- API PyMongo: https://www.mongodb.com/languages/python/pymongo-tutorial\n",
    "- Develop APIs with FastAPI: https://www.youtube.com/watch?v=PNv_uLpM4QY"
   ]
  }
 ],
 "metadata": {
  "kernelspec": {
   "display_name": "Python 3 (ipykernel)",
   "language": "python",
   "name": "python3"
  },
  "language_info": {
   "codemirror_mode": {
    "name": "ipython",
    "version": 3
   },
   "file_extension": ".py",
   "mimetype": "text/x-python",
   "name": "python",
   "nbconvert_exporter": "python",
   "pygments_lexer": "ipython3",
   "version": "3.9.12"
  }
 },
 "nbformat": 4,
 "nbformat_minor": 5
}
